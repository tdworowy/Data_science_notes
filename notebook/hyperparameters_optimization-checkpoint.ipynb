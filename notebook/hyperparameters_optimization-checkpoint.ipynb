{
 "cells": [
  {
   "cell_type": "code",
   "execution_count": 5,
   "metadata": {},
   "outputs": [],
   "source": [
    "from sklearn.datasets import load_digits\n",
    "digits = load_digits()\n",
    "X, Y = digits.data, digits.target\n",
    "\n",
    "from sklearn import svm\n",
    "h = svm.SVC()\n",
    "hp = svm.SVC(probability=True, random_state=1)"
   ]
  },
  {
   "cell_type": "code",
   "execution_count": 7,
   "metadata": {},
   "outputs": [],
   "source": [
    "from sklearn.model_selection import GridSearchCV\n",
    "search_grid = [\n",
    "    {'C': [1, 10, 100, 1000], 'kernel':['linear']},\n",
    "    {'C': [1, 10, 100, 1000], 'gamma': [0.001, 0.0001], 'kernel':['rbf'] },\n",
    "]\n",
    "socrer = 'accuracy'"
   ]
  },
  {
   "cell_type": "code",
   "execution_count": 8,
   "metadata": {},
   "outputs": [
    {
     "name": "stdout",
     "output_type": "stream",
     "text": [
      "5.67 s ± 103 ms per loop (mean ± std. dev. of 7 runs, 1 loop each)\n",
      "SVC(C=10, cache_size=200, class_weight=None, coef0=0.0,\n",
      "  decision_function_shape='ovr', degree=3, gamma=0.001, kernel='rbf',\n",
      "  max_iter=-1, probability=False, random_state=None, shrinking=True,\n",
      "  tol=0.001, verbose=False)\n",
      "{'C': 10, 'gamma': 0.001, 'kernel': 'rbf'}\n",
      "0.981081122784369\n"
     ]
    }
   ],
   "source": [
    "search_func = GridSearchCV(estimator=h, param_grid=search_grid, scoring=socrer, n_jobs=-1, iid=False, refit=True, cv=10)\n",
    "%timeit search_func.fit(X, Y)\n",
    "print(search_func.best_estimator_)\n",
    "print(search_func.best_params_)\n",
    "print(search_func.best_score_)"
   ]
  },
  {
   "cell_type": "code",
   "execution_count": 9,
   "metadata": {},
   "outputs": [
    {
     "name": "stdout",
     "output_type": "stream",
     "text": [
      "16.7 s ± 178 ms per loop (mean ± std. dev. of 7 runs, 1 loop each)\n",
      "SVC(C=10, cache_size=200, class_weight=None, coef0=0.0,\n",
      "  decision_function_shape='ovr', degree=3, gamma=0.001, kernel='rbf',\n",
      "  max_iter=-1, probability=True, random_state=1, shrinking=True, tol=0.001,\n",
      "  verbose=False)\n",
      "{'C': 10, 'gamma': 0.001, 'kernel': 'rbf'}\n",
      "0.981081122784369\n"
     ]
    }
   ],
   "source": [
    "search_func = GridSearchCV(estimator=hp, param_grid=search_grid, scoring=socrer, n_jobs=-1, iid=False, refit=True, cv=10)\n",
    "%timeit search_func.fit(X, Y)\n",
    "print(search_func.best_estimator_)\n",
    "print(search_func.best_params_)\n",
    "print(search_func.best_score_)"
   ]
  },
  {
   "cell_type": "code",
   "execution_count": 11,
   "metadata": {},
   "outputs": [
    {
     "name": "stdout",
     "output_type": "stream",
     "text": [
      "5.84 s ± 270 ms per loop (mean ± std. dev. of 7 runs, 1 loop each)\n",
      "SVC(C=10, cache_size=200, class_weight=None, coef0=0.0,\n",
      "  decision_function_shape='ovr', degree=3, gamma=0.001, kernel='rbf',\n",
      "  max_iter=-1, probability=False, random_state=None, shrinking=True,\n",
      "  tol=0.001, verbose=False)\n",
      "{'C': 10, 'gamma': 0.001, 'kernel': 'rbf'}\n",
      "0.9808918310846065\n"
     ]
    }
   ],
   "source": [
    "# scorrer f1_weighted\n",
    "search_func = GridSearchCV(estimator=h, param_grid=search_grid, scoring=\"f1_weighted\", n_jobs=-1, iid=False, refit=True, cv=10)\n",
    "%timeit search_func.fit(X, Y)\n",
    "print(search_func.best_estimator_)\n",
    "print(search_func.best_params_)\n",
    "print(search_func.best_score_)"
   ]
  },
  {
   "cell_type": "code",
   "execution_count": null,
   "metadata": {},
   "outputs": [],
   "source": []
  }
 ],
 "metadata": {
  "kernelspec": {
   "display_name": "Python 3",
   "language": "python",
   "name": "python3"
  },
  "language_info": {
   "codemirror_mode": {
    "name": "ipython",
    "version": 3
   },
   "file_extension": ".py",
   "mimetype": "text/x-python",
   "name": "python",
   "nbconvert_exporter": "python",
   "pygments_lexer": "ipython3",
   "version": "3.7.2"
  }
 },
 "nbformat": 4,
 "nbformat_minor": 2
}
