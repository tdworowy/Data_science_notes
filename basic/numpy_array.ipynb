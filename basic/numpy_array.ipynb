{
 "cells": [
  {
   "cell_type": "code",
   "execution_count": 5,
   "metadata": {},
   "outputs": [
    {
     "name": "stdout",
     "output_type": "stream",
     "text": [
      "[1 2 3]\n",
      "<class 'numpy.ndarray'>\n",
      "int32\n",
      "[1 2 3]\n",
      "<class 'numpy.ndarray'>\n",
      "int8\n",
      "[1. 2. 3.]\n",
      "<class 'numpy.ndarray'>\n",
      "float32\n"
     ]
    }
   ],
   "source": [
    "# basic\n",
    "import numpy as np\n",
    "list_of_ints = [1, 2 ,3]\n",
    "array = np.array(list_of_ints)\n",
    "print(array)\n",
    "print(type(array))\n",
    "print(array.dtype)\n",
    "\n",
    "array2 = np.array(list_of_ints, dtype ='int8')\n",
    "print(array2)\n",
    "print(type(array2))\n",
    "print(array2.dtype)\n",
    "\n",
    "array_float = array.astype('float32')\n",
    "print(array_float)\n",
    "print(type(array_float))\n",
    "print(array_float.dtype)"
   ]
  },
  {
   "cell_type": "code",
   "execution_count": 6,
   "metadata": {},
   "outputs": [
    {
     "name": "stdout",
     "output_type": "stream",
     "text": [
      "[[1 2 3]\n",
      " [4 5 6]\n",
      " [7 8 9]]\n",
      "<class 'numpy.ndarray'>\n",
      "int32\n"
     ]
    }
   ],
   "source": [
    "# 2D array\n",
    "list_of_lists = [[1,2,3], [4,5,6], [7,8,9]]\n",
    "array_2d = np.array(list_of_lists)\n",
    "print(array_2d)\n",
    "print(type(array_2d))\n",
    "print(array_2d.dtype)"
   ]
  },
  {
   "cell_type": "code",
   "execution_count": 9,
   "metadata": {},
   "outputs": [
    {
     "name": "stdout",
     "output_type": "stream",
     "text": [
      "[[[ 1  2]\n",
      "  [ 4  5]\n",
      "  [ 6  7]]\n",
      "\n",
      " [[ 8  9]\n",
      "  [10 11]\n",
      "  [12 13]]]\n",
      "<class 'numpy.ndarray'>\n",
      "int32\n"
     ]
    }
   ],
   "source": [
    "# 3D array\n",
    "list_of_lists = [[[1,2], [4,5], [6,7]],[[8,9], [10,11], [12,13]]]\n",
    "array_3d = np.array(list_of_lists)\n",
    "print(array_3d)\n",
    "print(type(array_3d))\n",
    "print(array_3d.dtype)"
   ]
  },
  {
   "cell_type": "code",
   "execution_count": 12,
   "metadata": {},
   "outputs": [
    {
     "name": "stdout",
     "output_type": "stream",
     "text": [
      "[-1  2  3  4  5  6  7  8  9 10]\n",
      "[[-1  2]\n",
      " [ 3  4]\n",
      " [ 5  6]\n",
      " [ 7  8]\n",
      " [ 9 10]]\n"
     ]
    }
   ],
   "source": [
    "# reschape (new array is pointer to old one)\n",
    "list = [1,2,3,4,5,6,7,8,9,10]\n",
    "array = np.array(list)\n",
    "reschaped_pointer = array.reshape((5,2))\n",
    "reschaped_pointer[0,0] = -1\n",
    "print(array)\n",
    "print(reschaped_pointer)"
   ]
  },
  {
   "cell_type": "code",
   "execution_count": 13,
   "metadata": {},
   "outputs": [
    {
     "name": "stdout",
     "output_type": "stream",
     "text": [
      "[[ 1  2]\n",
      " [ 3  4]\n",
      " [ 5  6]\n",
      " [ 7  8]\n",
      " [ 9 10]]\n"
     ]
    }
   ],
   "source": [
    "# resize (crete new array in place)\n",
    "list = [1,2,3,4,5,6,7,8,9,10]\n",
    "array = np.array(list)\n",
    "array.resize((5,2))\n",
    "print(array)"
   ]
  },
  {
   "cell_type": "code",
   "execution_count": 21,
   "metadata": {},
   "outputs": [
    {
     "name": "stdout",
     "output_type": "stream",
     "text": [
      "[0 1 2 3 4 5 6 7 8]\n",
      "[[0. 0. 0.]\n",
      " [0. 0. 0.]\n",
      " [0. 0. 0.]]\n",
      "[[1. 1. 1. 1. 1. 1.]\n",
      " [1. 1. 1. 1. 1. 1.]\n",
      " [1. 1. 1. 1. 1. 1.]\n",
      " [1. 1. 1. 1. 1. 1.]\n",
      " [1. 1. 1. 1. 1. 1.]\n",
      " [1. 1. 1. 1. 1. 1.]]\n",
      "[[1. 0. 0.]\n",
      " [0. 1. 0.]\n",
      " [0. 0. 1.]]\n",
      "[[6 7 7]\n",
      " [7 4 2]\n",
      " [5 2 5]]\n",
      "[[-0.08685524 -0.32995069  1.33801461]\n",
      " [ 0.99482601 -0.61976423 -1.00147939]\n",
      " [ 0.50925657  0.91864279  0.15143081]]\n"
     ]
    }
   ],
   "source": [
    "# generate data\n",
    "ordinal = np.arange(9)\n",
    "print(ordinal)\n",
    "zeros = np.zeros((3,3))\n",
    "print(zeros)\n",
    "ones = np.ones((6,6))\n",
    "print(ones)\n",
    "eye = np.eye(3)\n",
    "print(eye)\n",
    "# random data\n",
    "random = np.random.randint(low=1, high=10, size=(3,3))\n",
    "print(random)\n",
    "# normal distribution (Gaus)\n",
    "normal = np.random.normal(size=(3,3))\n",
    "print(normal)\n"
   ]
  },
  {
   "cell_type": "code",
   "execution_count": null,
   "metadata": {},
   "outputs": [],
   "source": [
    "#data from file\n",
    "np.loadtxt() # file name and so on"
   ]
  }
 ],
 "metadata": {
  "kernelspec": {
   "display_name": "Python 3",
   "language": "python",
   "name": "python3"
  },
  "language_info": {
   "codemirror_mode": {
    "name": "ipython",
    "version": 3
   },
   "file_extension": ".py",
   "mimetype": "text/x-python",
   "name": "python",
   "nbconvert_exporter": "python",
   "pygments_lexer": "ipython3",
   "version": "3.6.0"
  }
 },
 "nbformat": 4,
 "nbformat_minor": 2
}
