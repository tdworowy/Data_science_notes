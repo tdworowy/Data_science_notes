{
 "cells": [
  {
   "cell_type": "code",
   "execution_count": 1,
   "metadata": {},
   "outputs": [
    {
     "name": "stderr",
     "output_type": "stream",
     "text": [
      "D:\\Python\\Lib\\importlib\\_bootstrap.py:219: RuntimeWarning: numpy.ufunc size changed, may indicate binary incompatibility. Expected 216, got 192\n",
      "  return f(*args, **kwds)\n"
     ]
    }
   ],
   "source": [
    "from sklearn.datasets import load_digits\n",
    "\n",
    "digits = load_digits()\n",
    "X, Y = digits.data, digits.target\n",
    "\n",
    "from sklearn import svm\n",
    "\n",
    "h = svm.SVC()\n",
    "hp = svm.SVC(probability=True, random_state=1)\n",
    "\n",
    "from sklearn.model_selection import RandomizedSearchCV"
   ]
  },
  {
   "cell_type": "code",
   "execution_count": 9,
   "metadata": {},
   "outputs": [
    {
     "name": "stdout",
     "output_type": "stream",
     "text": [
      "24.2 s ± 6.15 s per loop (mean ± std. dev. of 7 runs, 1 loop each)\n",
      "SVC(C=10, cache_size=200, class_weight=None, coef0=0.0,\n",
      "  decision_function_shape='ovr', degree=3, gamma=0.001, kernel='rbf',\n",
      "  max_iter=-1, probability=False, random_state=None, shrinking=True,\n",
      "  tol=0.001, verbose=False)\n",
      "{'kernel': 'rbf', 'gamma': 0.001, 'C': 10}\n",
      "0.981081122784369\n"
     ]
    }
   ],
   "source": [
    "search_dict = {\n",
    "    \"kernel\": [\"linear\", \"rbf\"],\n",
    "    \"C\": [1, 10, 100, 1000],\n",
    "    \"gamma\": [0.01, 0.001, 0.0001],\n",
    "}\n",
    "scorer = \"accuracy\"\n",
    "search_func = RandomizedSearchCV(\n",
    "    estimator=h,\n",
    "    param_distributions=search_dict,\n",
    "    n_iter=10,\n",
    "    scoring=scorer,\n",
    "    n_jobs=1,\n",
    "    iid=False,\n",
    "    refit=True,\n",
    "    cv=10,\n",
    "    return_train_score=True,\n",
    ")\n",
    "%timeit score = search_func.fit(X, Y)\n",
    "print(search_func.best_estimator_)\n",
    "print(search_func.best_params_)\n",
    "print(search_func.best_score_)"
   ]
  },
  {
   "cell_type": "code",
   "execution_count": 11,
   "metadata": {},
   "outputs": [
    {
     "data": {
      "text/plain": [
       "{'mean_fit_time': array([0.03847549, 0.11503494, 0.05636449, 0.0412756 , 0.058866  ,\n",
       "        0.4989104 , 0.49272053, 0.1182354 , 0.0562727 , 0.49327948]),\n",
       " 'std_fit_time': array([0.00120836, 0.00201938, 0.003291  , 0.00219518, 0.00429813,\n",
       "        0.02196273, 0.00938432, 0.00430777, 0.00309858, 0.02815062]),\n",
       " 'mean_score_time': array([0.00469694, 0.01099095, 0.00739651, 0.00460277, 0.00779755,\n",
       "        0.02608569, 0.02418363, 0.01169271, 0.00829246, 0.02468376]),\n",
       " 'std_score_time': array([0.00045848, 0.00044925, 0.00048838, 0.00049094, 0.00097855,\n",
       "        0.00291206, 0.00074941, 0.00100102, 0.0004567 , 0.00189976]),\n",
       " 'param_kernel': masked_array(data=['linear', 'rbf', 'rbf', 'linear', 'rbf', 'rbf', 'rbf',\n",
       "                    'rbf', 'rbf', 'rbf'],\n",
       "              mask=[False, False, False, False, False, False, False, False,\n",
       "                    False, False],\n",
       "        fill_value='?',\n",
       "             dtype=object),\n",
       " 'param_gamma': masked_array(data=[0.01, 0.001, 0.0001, 0.0001, 0.0001, 0.01, 0.01, 0.001,\n",
       "                    0.0001, 0.01],\n",
       "              mask=[False, False, False, False, False, False, False, False,\n",
       "                    False, False],\n",
       "        fill_value='?',\n",
       "             dtype=object),\n",
       " 'param_C': masked_array(data=[10, 10, 1000, 1, 100, 10, 1, 1000, 10, 100],\n",
       "              mask=[False, False, False, False, False, False, False, False,\n",
       "                    False, False],\n",
       "        fill_value='?',\n",
       "             dtype=object),\n",
       " 'params': [{'kernel': 'linear', 'gamma': 0.01, 'C': 10},\n",
       "  {'kernel': 'rbf', 'gamma': 0.001, 'C': 10},\n",
       "  {'kernel': 'rbf', 'gamma': 0.0001, 'C': 1000},\n",
       "  {'kernel': 'linear', 'gamma': 0.0001, 'C': 1},\n",
       "  {'kernel': 'rbf', 'gamma': 0.0001, 'C': 100},\n",
       "  {'kernel': 'rbf', 'gamma': 0.01, 'C': 10},\n",
       "  {'kernel': 'rbf', 'gamma': 0.01, 'C': 1},\n",
       "  {'kernel': 'rbf', 'gamma': 0.001, 'C': 1000},\n",
       "  {'kernel': 'rbf', 'gamma': 0.0001, 'C': 10},\n",
       "  {'kernel': 'rbf', 'gamma': 0.01, 'C': 100}],\n",
       " 'split0_test_score': array([0.93513514, 0.96756757, 0.95135135, 0.93513514, 0.95135135,\n",
       "        0.70810811, 0.68648649, 0.96756757, 0.95135135, 0.70810811]),\n",
       " 'split1_test_score': array([0.99453552, 1.        , 1.        , 0.99453552, 1.        ,\n",
       "        0.86885246, 0.84699454, 1.        , 0.99453552, 0.86885246]),\n",
       " 'split2_test_score': array([0.9281768 , 0.95027624, 0.93370166, 0.9281768 , 0.93370166,\n",
       "        0.68508287, 0.67403315, 0.95027624, 0.91712707, 0.68508287]),\n",
       " 'split3_test_score': array([0.96111111, 0.99444444, 0.97777778, 0.96111111, 0.97777778,\n",
       "        0.68888889, 0.67777778, 0.99444444, 0.98333333, 0.68888889]),\n",
       " 'split4_test_score': array([0.96089385, 0.98324022, 0.98324022, 0.96089385, 0.98324022,\n",
       "        0.78212291, 0.77094972, 0.98324022, 0.97206704, 0.78212291]),\n",
       " 'split5_test_score': array([0.98882682, 0.98882682, 0.97206704, 0.98882682, 0.97206704,\n",
       "        0.69832402, 0.68715084, 0.98882682, 0.99441341, 0.69832402]),\n",
       " 'split6_test_score': array([0.96648045, 0.99441341, 0.98882682, 0.96648045, 0.98882682,\n",
       "        0.83240223, 0.82122905, 0.99441341, 0.98324022, 0.83240223]),\n",
       " 'split7_test_score': array([0.97752809, 0.99438202, 0.99438202, 0.97752809, 0.99438202,\n",
       "        0.76404494, 0.75280899, 0.99438202, 0.99438202, 0.76404494]),\n",
       " 'split8_test_score': array([0.93220339, 0.97175141, 0.94915254, 0.93220339, 0.94915254,\n",
       "        0.76836158, 0.76271186, 0.97175141, 0.93785311, 0.76836158]),\n",
       " 'split9_test_score': array([0.96590909, 0.96590909, 0.96590909, 0.96590909, 0.96590909,\n",
       "        0.71590909, 0.6875    , 0.96590909, 0.96590909, 0.71590909]),\n",
       " 'mean_test_score': array([0.96108002, 0.98108112, 0.97164085, 0.96108002, 0.97164085,\n",
       "        0.75120971, 0.73676424, 0.98108112, 0.96942122, 0.75120971]),\n",
       " 'std_test_score': array([0.02191309, 0.01550682, 0.02044204, 0.02191309, 0.02044204,\n",
       "        0.06000335, 0.06017913, 0.01550682, 0.0251793 , 0.06000335]),\n",
       " 'rank_test_score': array([ 6,  1,  3,  6,  3,  8, 10,  1,  5,  8]),\n",
       " 'split0_train_score': array([1.        , 1.        , 1.        , 1.        , 1.        ,\n",
       "        1.        , 1.        , 1.        , 0.99875931, 1.        ]),\n",
       " 'split1_train_score': array([1.        , 1.        , 1.        , 1.        , 1.        ,\n",
       "        1.        , 1.        , 1.        , 0.99814126, 1.        ]),\n",
       " 'split2_train_score': array([1.        , 1.        , 1.        , 1.        , 1.        ,\n",
       "        1.        , 1.        , 1.        , 0.99814356, 1.        ]),\n",
       " 'split3_train_score': array([1.        , 1.        , 1.        , 1.        , 1.        ,\n",
       "        1.        , 1.        , 1.        , 0.99752628, 1.        ]),\n",
       " 'split4_train_score': array([1.        , 1.        , 1.        , 1.        , 1.        ,\n",
       "        1.        , 1.        , 1.        , 0.99690977, 1.        ]),\n",
       " 'split5_train_score': array([1.        , 1.        , 1.        , 1.        , 1.        ,\n",
       "        1.        , 1.        , 1.        , 0.99814586, 1.        ]),\n",
       " 'split6_train_score': array([1.        , 1.        , 1.        , 1.        , 1.        ,\n",
       "        1.        , 1.        , 1.        , 0.99814586, 1.        ]),\n",
       " 'split7_train_score': array([1.        , 1.        , 1.        , 1.        , 1.        ,\n",
       "        1.        , 1.        , 1.        , 0.99691167, 1.        ]),\n",
       " 'split8_train_score': array([1.        , 1.        , 1.        , 1.        , 1.        ,\n",
       "        1.        , 1.        , 1.        , 0.99753086, 1.        ]),\n",
       " 'split9_train_score': array([1.        , 1.        , 1.        , 1.        , 1.        ,\n",
       "        1.        , 1.        , 1.        , 0.99814929, 1.        ]),\n",
       " 'mean_train_score': array([1.        , 1.        , 1.        , 1.        , 1.        ,\n",
       "        1.        , 1.        , 1.        , 0.99783637, 1.        ]),\n",
       " 'std_train_score': array([0.        , 0.        , 0.        , 0.        , 0.        ,\n",
       "        0.        , 0.        , 0.        , 0.00056849, 0.        ])}"
      ]
     },
     "execution_count": 11,
     "metadata": {},
     "output_type": "execute_result"
    }
   ],
   "source": [
    "search_func.cv_results_"
   ]
  },
  {
   "cell_type": "code",
   "execution_count": null,
   "metadata": {},
   "outputs": [],
   "source": []
  }
 ],
 "metadata": {
  "kernelspec": {
   "display_name": "Python 3",
   "language": "python",
   "name": "python3"
  },
  "language_info": {
   "codemirror_mode": {
    "name": "ipython",
    "version": 3
   },
   "file_extension": ".py",
   "mimetype": "text/x-python",
   "name": "python",
   "nbconvert_exporter": "python",
   "pygments_lexer": "ipython3",
   "version": "3.7.2"
  }
 },
 "nbformat": 4,
 "nbformat_minor": 2
}
