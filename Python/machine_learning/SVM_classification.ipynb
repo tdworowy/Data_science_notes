{
 "cells": [
  {
   "cell_type": "code",
   "execution_count": 1,
   "metadata": {},
   "outputs": [],
   "source": [
    "#support-vector machines\n",
    "#first example\n",
    "from sklearn.datasets import load_svmlight_file\n",
    "X_train, y_train = load_svmlight_file('ijcnn1.bz2')\n",
    "first_rows = 5000\n",
    "X_train, y_train = X_train[:first_rows,:], y_train[:first_rows]"
   ]
  },
  {
   "cell_type": "code",
   "execution_count": 2,
   "metadata": {},
   "outputs": [
    {
     "name": "stdout",
     "output_type": "stream",
     "text": [
      "SVC with rbf function -> accuracy in corss validation:\n",
      "mean= 0.903800\n",
      "standard deviation= 0.000354\n"
     ]
    }
   ],
   "source": [
    "import numpy as np\n",
    "from sklearn.model_selection import cross_val_score\n",
    "from sklearn.svm import SVC\n",
    "hypothesis = SVC(kernel='rbf', random_state=101, gamma='scale')\n",
    "scores = cross_val_score(hypothesis, X_train, y_train, cv=5, scoring='accuracy')\n",
    "print('SVC with rbf function -> accuracy in corss validation:\\nmean= %f\\nstandard deviation= %f' \n",
    "      %(np.mean(scores), np.std(scores)))"
   ]
  },
  {
   "cell_type": "code",
   "execution_count": 3,
   "metadata": {},
   "outputs": [],
   "source": [
    "#second example\n",
    "import pickle\n",
    "covertype_dataset = pickle.load(open('covertype_dataset.pickle','rb'))\n",
    "covertype_X = covertype_dataset.data[:50000,:]\n",
    "covertype_Y = covertype_dataset.target[:50000] -1"
   ]
  },
  {
   "cell_type": "code",
   "execution_count": 4,
   "metadata": {},
   "outputs": [
    {
     "name": "stdout",
     "output_type": "stream",
     "text": [
      "Original data set:  (581012, 54)\n",
      "Sample:  (50000, 54)\n",
      "Frequency of target values:  [('Spruce/Fir', 18161), ('Lodgepole Pine', 24335), ('Ponderosa Pine', 3185), ('Cottonwod/Wollow', 237), ('Aspen', 789), ('Dougles-fir', 1503), ('Krummholz', 1790)]\n"
     ]
    }
   ],
   "source": [
    "import numpy as np\n",
    "covertypes = ['Spruce/Fir','Lodgepole Pine', 'Ponderosa Pine', 'Cottonwod/Wollow', 'Aspen', 'Dougles-fir', 'Krummholz']\n",
    "print(\"Original data set: \", covertype_dataset.data.shape)\n",
    "print(\"Sample: \", covertype_X.shape)\n",
    "print(\"Frequency of target values: \", list(zip(covertypes, np.bincount(covertype_Y))))"
   ]
  },
  {
   "cell_type": "code",
   "execution_count": 5,
   "metadata": {},
   "outputs": [
    {
     "name": "stdout",
     "output_type": "stream",
     "text": [
      "LinearSVC with rbf function -> accuracy in corss validation:\n",
      "mean= 0.670960\n",
      "standard deviation= 0.007295\n"
     ]
    }
   ],
   "source": [
    "from sklearn.model_selection import StratifiedKFold\n",
    "from sklearn.svm import LinearSVC\n",
    "hypothesis = LinearSVC(dual=False, class_weight = 'balanced')\n",
    "cv_strata =  StratifiedKFold(n_splits=5, shuffle=True, random_state=101)\n",
    "scores = cross_val_score(hypothesis, covertype_X, covertype_Y, cv=cv_strata, scoring='accuracy')\n",
    "print('LinearSVC with rbf function -> accuracy in corss validation:\\nmean= %f\\nstandard deviation= %f' \n",
    "      %(np.mean(scores), np.std(scores))) # problem seems to be not linear but we use LinearSVC, still result is quite good"
   ]
  },
  {
   "cell_type": "code",
   "execution_count": 6,
   "metadata": {},
   "outputs": [
    {
     "name": "stdout",
     "output_type": "stream",
     "text": [
      "Best params: {'C': 1000, 'gamma': 0.1}\n",
      "accuracy of cross-validation: mean = 0.997800\n"
     ]
    }
   ],
   "source": [
    "# Optimalization\n",
    "from sklearn.model_selection import GridSearchCV\n",
    "hypothesis = SVC(kernel='rbf', random_state=101, gamma='scale')\n",
    "search_dict = {'C':[0.001,0.01,0.1,1,10,100,1000],\n",
    "              'gamma':[1,0.1,0.01,0.001,0.0001]}\n",
    "search_funct = GridSearchCV(estimator=hypothesis, param_grid=search_dict,scoring='accuracy', n_jobs=-1, iid=True, \n",
    "                           refit=True, cv=5)\n",
    "search_funct.fit(X_train, y_train)\n",
    "print(\"Best params: %s\" % search_funct.best_params_)\n",
    "print(\"accuracy of cross-validation: mean = %f\" %(search_funct.best_score_))"
   ]
  }
 ],
 "metadata": {
  "kernelspec": {
   "display_name": "Python 3",
   "language": "python",
   "name": "python3"
  },
  "language_info": {
   "codemirror_mode": {
    "name": "ipython",
    "version": 3
   },
   "file_extension": ".py",
   "mimetype": "text/x-python",
   "name": "python",
   "nbconvert_exporter": "python",
   "pygments_lexer": "ipython3",
   "version": "3.7.2"
  }
 },
 "nbformat": 4,
 "nbformat_minor": 2
}
