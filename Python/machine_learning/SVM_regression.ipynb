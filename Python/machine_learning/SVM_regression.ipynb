{
 "cells": [
  {
   "cell_type": "code",
   "execution_count": 3,
   "metadata": {},
   "outputs": [
    {
     "name": "stderr",
     "output_type": "stream",
     "text": [
      "D:\\Python\\Lib\\importlib\\_bootstrap.py:219: RuntimeWarning: numpy.ufunc size changed, may indicate binary incompatibility. Expected 192 from C header, got 216 from PyObject\n",
      "  return f(*args, **kwds)\n",
      "D:\\Python\\Lib\\importlib\\_bootstrap.py:219: RuntimeWarning: numpy.ufunc size changed, may indicate binary incompatibility. Expected 216, got 192\n",
      "  return f(*args, **kwds)\n"
     ]
    }
   ],
   "source": [
    "import pickle\n",
    "\n",
    "X_train, y_train = pickle.load(open(\"cadata.pickle\", \"rb\"))\n",
    "from sklearn.preprocessing import scale\n",
    "\n",
    "first_rows = 6000\n",
    "X_train = scale(X_train[:first_rows, :].toarray())\n",
    "y_train = y_train[:first_rows] / 10**4.0  # Resoults will be in 1000s of dolars"
   ]
  },
  {
   "cell_type": "code",
   "execution_count": 10,
   "metadata": {},
   "outputs": [
    {
     "name": "stdout",
     "output_type": "stream",
     "text": [
      "SVR -> accuracy of cross-validation:\n",
      "mean = -7.716530\n",
      "standard deviation = 0.668355\n"
     ]
    }
   ],
   "source": [
    "import numpy as np\n",
    "from sklearn.model_selection import cross_val_score\n",
    "from sklearn.svm import SVR\n",
    "\n",
    "hypotesis = SVR(gamma=\"scale\")\n",
    "scores = cross_val_score(\n",
    "    hypotesis, X_train, y_train, cv=3, scoring=\"neg_mean_absolute_error\"\n",
    ")\n",
    "print(\n",
    "    \"SVR -> accuracy of cross-validation:\\nmean = %f\\nstandard deviation = %f\"\n",
    "    % (np.mean(scores), np.std(scores))\n",
    ")"
   ]
  },
  {
   "cell_type": "code",
   "execution_count": null,
   "metadata": {},
   "outputs": [],
   "source": []
  }
 ],
 "metadata": {
  "kernelspec": {
   "display_name": "Python 3",
   "language": "python",
   "name": "python3"
  },
  "language_info": {
   "codemirror_mode": {
    "name": "ipython",
    "version": 3
   },
   "file_extension": ".py",
   "mimetype": "text/x-python",
   "name": "python",
   "nbconvert_exporter": "python",
   "pygments_lexer": "ipython3",
   "version": "3.7.2"
  }
 },
 "nbformat": 4,
 "nbformat_minor": 2
}
