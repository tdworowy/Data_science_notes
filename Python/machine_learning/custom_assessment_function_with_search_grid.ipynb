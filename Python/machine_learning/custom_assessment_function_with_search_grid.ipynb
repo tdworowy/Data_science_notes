{
 "cells": [
  {
   "cell_type": "code",
   "execution_count": 1,
   "metadata": {},
   "outputs": [],
   "source": [
    "from sklearn.metrics import log_loss, make_scorer\n",
    "\n",
    "Log_loss = make_scorer(\n",
    "    log_loss, greater_is_better=False, needs_proba=True\n",
    ")  # logarithmic loss function"
   ]
  },
  {
   "cell_type": "code",
   "execution_count": 2,
   "metadata": {},
   "outputs": [],
   "source": [
    "from sklearn.datasets import load_digits\n",
    "\n",
    "digits = load_digits()\n",
    "X, Y = digits.data, digits.target\n",
    "\n",
    "from sklearn import svm\n",
    "\n",
    "hp = svm.SVC(probability=True, random_state=1)\n",
    "\n",
    "from sklearn.model_selection import GridSearchCV\n",
    "\n",
    "search_grid = [\n",
    "    {\"C\": [1, 10, 100, 1000], \"kernel\": [\"linear\"]},\n",
    "    {\"C\": [1, 10, 100, 1000], \"gamma\": [0.001, 0.0001], \"kernel\": [\"rbf\"]},\n",
    "]"
   ]
  },
  {
   "cell_type": "code",
   "execution_count": 3,
   "metadata": {},
   "outputs": [
    {
     "name": "stdout",
     "output_type": "stream",
     "text": [
      "-0.16138394081976534\n",
      "{'C': 1, 'gamma': 0.001, 'kernel': 'rbf'}\n"
     ]
    }
   ],
   "source": [
    "search_func = GridSearchCV(\n",
    "    estimator=hp,\n",
    "    param_grid=search_grid,\n",
    "    scoring=Log_loss,\n",
    "    n_jobs=-1,\n",
    "    iid=False,\n",
    "    refit=True,\n",
    "    cv=3,\n",
    ")\n",
    "search_func.fit(X, Y)\n",
    "print(search_func.best_score_)\n",
    "print(search_func.best_params_)"
   ]
  },
  {
   "cell_type": "code",
   "execution_count": 4,
   "metadata": {},
   "outputs": [],
   "source": [
    "# new lose function\n",
    "import numpy as np\n",
    "from sklearn.preprocessing import LabelBinarizer\n",
    "\n",
    "\n",
    "def custom_log_loss_func(ground_truth, p_predictions, penalty=list(), eps=1e-15):\n",
    "    adj_p = np.clip(p_predictions, eps, 1 - eps)\n",
    "    lb = LabelBinarizer()\n",
    "    g = lb.fit_transform(ground_truth)\n",
    "    if g.shape[1] == 1:\n",
    "        g.append(1 - g, g, axis=1)\n",
    "    if penalty:\n",
    "        g[:, penalty] = g[:, penalty] * 2\n",
    "    summation = np.sum(g * np.log(adj_p))\n",
    "    return summation * (-1.0 / len(ground_truth))"
   ]
  },
  {
   "cell_type": "code",
   "execution_count": 5,
   "metadata": {},
   "outputs": [],
   "source": [
    "# scorrer thats add penalty for 4 and 9 becouse thoes numbers are easy to confused with each other\n",
    "my_custom_scorer = make_scorer(\n",
    "    custom_log_loss_func, greater_is_better=False, needs_proba=True, penalty=[4, 9]\n",
    ")"
   ]
  },
  {
   "cell_type": "code",
   "execution_count": 7,
   "metadata": {},
   "outputs": [
    {
     "name": "stdout",
     "output_type": "stream",
     "text": [
      "-0.19961027129825612\n",
      "{'C': 1, 'gamma': 0.001, 'kernel': 'rbf'}\n"
     ]
    }
   ],
   "source": [
    "search_grid = [\n",
    "    {\"C\": [1, 10, 100, 1000], \"kernel\": [\"linear\"]},\n",
    "    {\"C\": [1, 10, 100, 1000], \"gamma\": [0.001, 0.0001], \"kernel\": [\"rbf\"]},\n",
    "]\n",
    "search_func = GridSearchCV(\n",
    "    estimator=hp,\n",
    "    param_grid=search_grid,\n",
    "    scoring=my_custom_scorer,\n",
    "    n_jobs=1,\n",
    "    iid=False,\n",
    "    refit=True,\n",
    "    cv=3,\n",
    ")\n",
    "search_func.fit(X, Y)\n",
    "print(search_func.best_score_)\n",
    "print(search_func.best_params_)"
   ]
  },
  {
   "cell_type": "code",
   "execution_count": null,
   "metadata": {},
   "outputs": [],
   "source": []
  }
 ],
 "metadata": {
  "kernelspec": {
   "display_name": "Python 3",
   "language": "python",
   "name": "python3"
  },
  "language_info": {
   "codemirror_mode": {
    "name": "ipython",
    "version": 3
   },
   "file_extension": ".py",
   "mimetype": "text/x-python",
   "name": "python",
   "nbconvert_exporter": "python",
   "pygments_lexer": "ipython3",
   "version": "3.7.2"
  }
 },
 "nbformat": 4,
 "nbformat_minor": 2
}
