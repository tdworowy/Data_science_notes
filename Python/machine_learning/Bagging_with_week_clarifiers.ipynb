{
 "cells": [
  {
   "cell_type": "code",
   "execution_count": 1,
   "metadata": {},
   "outputs": [],
   "source": [
    "# Bootstrap aggregating, also called bagging, is a machine learning ensemble meta-algorithm\n",
    "# designed to improve the stability and accuracy of machine learning algorithms used in statistical\n",
    "# classification and regression. It also reduces variance and helps to avoid overfitting.\n",
    "# Although it is usually applied to decision tree methods, it can be used with any type of method.\n",
    "# Bagging is a special case of the model averaging approach.\n",
    "# https://en.wikipedia.org/wiki/Bootstrap_aggregating\n",
    "\n",
    "import pickle\n",
    "import numpy as np\n",
    "\n",
    "covertype_dataset = pickle.load(open(\"covertype_dataset.pickle\", \"rb\"))\n",
    "covertype_X = covertype_dataset.data[:50000, :]\n",
    "covertype_Y = covertype_dataset.target[:50000] - 1\n",
    "covertypes = [\n",
    "    \"Spruce/Fir\",\n",
    "    \"Lodgepole Pine\",\n",
    "    \"Ponderosa Pine\",\n",
    "    \"Cottonwod/Wollow\",\n",
    "    \"Aspen\",\n",
    "    \"Dougles-fir\",\n",
    "    \"Krummholz\",\n",
    "]"
   ]
  },
  {
   "cell_type": "code",
   "execution_count": 2,
   "metadata": {},
   "outputs": [
    {
     "name": "stdout",
     "output_type": "stream",
     "text": [
      "BaggingClassifier -> accuracy of cross-validation:\n",
      "mean = 0.869480\n",
      "standard deviation = 0.002478\n"
     ]
    }
   ],
   "source": [
    "from sklearn.model_selection import cross_val_score\n",
    "from sklearn.ensemble import BaggingClassifier\n",
    "from sklearn.neighbors import KNeighborsClassifier\n",
    "\n",
    "hypothesis = BaggingClassifier(\n",
    "    KNeighborsClassifier(n_neighbors=1),\n",
    "    max_samples=0.7,\n",
    "    max_features=0.7,\n",
    "    n_estimators=100,\n",
    ")\n",
    "scores = cross_val_score(\n",
    "    hypothesis, covertype_X, covertype_Y, cv=3, scoring=\"accuracy\", n_jobs=-1\n",
    ")\n",
    "print(\n",
    "    \"BaggingClassifier -> accuracy of cross-validation:\\nmean = %f\\nstandard deviation = %f\"\n",
    "    % (np.mean(scores), np.std(scores))\n",
    ")"
   ]
  },
  {
   "cell_type": "code",
   "execution_count": null,
   "metadata": {},
   "outputs": [],
   "source": []
  }
 ],
 "metadata": {
  "kernelspec": {
   "display_name": "Python 3",
   "language": "python",
   "name": "python3"
  },
  "language_info": {
   "codemirror_mode": {
    "name": "ipython",
    "version": 3
   },
   "file_extension": ".py",
   "mimetype": "text/x-python",
   "name": "python",
   "nbconvert_exporter": "python",
   "pygments_lexer": "ipython3",
   "version": "3.7.2"
  }
 },
 "nbformat": 4,
 "nbformat_minor": 2
}
