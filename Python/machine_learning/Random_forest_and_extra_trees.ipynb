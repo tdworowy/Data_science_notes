{
 "cells": [
  {
   "cell_type": "code",
   "execution_count": 1,
   "metadata": {},
   "outputs": [],
   "source": [
    "import numpy as np\n",
    "from sklearn.model_selection import cross_val_score\n",
    "from sklearn.ensemble import (\n",
    "    RandomForestClassifier,\n",
    "    ExtraTreesClassifier,\n",
    "    RandomForestRegressor,\n",
    "    ExtraTreesRegressor,\n",
    ")"
   ]
  },
  {
   "cell_type": "code",
   "execution_count": 2,
   "metadata": {},
   "outputs": [],
   "source": [
    "# Classification\n",
    "import pickle\n",
    "import numpy as np\n",
    "\n",
    "covertype_dataset = pickle.load(open(\"covertype_dataset.pickle\", \"rb\"))\n",
    "covertype_X = covertype_dataset.data[:80000, :]\n",
    "covertype_Y = covertype_dataset.target[:80000] - 1\n",
    "covertypes = [\n",
    "    \"Spruce/Fir\",\n",
    "    \"Lodgepole Pine\",\n",
    "    \"Ponderosa Pine\",\n",
    "    \"Cottonwod/Wollow\",\n",
    "    \"Aspen\",\n",
    "    \"Dougles-fir\",\n",
    "    \"Krummholz\",\n",
    "]"
   ]
  },
  {
   "cell_type": "code",
   "execution_count": 3,
   "metadata": {},
   "outputs": [
    {
     "name": "stdout",
     "output_type": "stream",
     "text": [
      "RandomForestClassifier -> accuracy of cross-validation:\n",
      "mean = 0.889075\n",
      "standard deviation = 0.000290\n",
      "Wall time: 1min 13s\n"
     ]
    }
   ],
   "source": [
    "%%time\n",
    "hypothesis = RandomForestClassifier(n_estimators=600, random_state=101)\n",
    "scores = cross_val_score(\n",
    "    hypothesis, covertype_X, covertype_Y, cv=3, scoring=\"accuracy\", n_jobs=-1\n",
    ")\n",
    "print(\n",
    "    \"RandomForestClassifier -> accuracy of cross-validation:\\nmean = %f\\nstandard deviation = %f\"\n",
    "    % (np.mean(scores), np.std(scores))\n",
    ")"
   ]
  },
  {
   "cell_type": "code",
   "execution_count": 4,
   "metadata": {},
   "outputs": [
    {
     "name": "stdout",
     "output_type": "stream",
     "text": [
      "ExtraTreesClassifier -> accuracy of cross-validation:\n",
      "mean = 0.895587\n",
      "standard deviation = 0.000729\n",
      "Wall time: 1min 34s\n"
     ]
    }
   ],
   "source": [
    "%%time\n",
    "hypothesis = ExtraTreesClassifier(n_estimators=600, random_state=101)\n",
    "scores = cross_val_score(\n",
    "    hypothesis, covertype_X, covertype_Y, cv=3, scoring=\"accuracy\", n_jobs=-1\n",
    ")\n",
    "print(\n",
    "    \"ExtraTreesClassifier -> accuracy of cross-validation:\\nmean = %f\\nstandard deviation = %f\"\n",
    "    % (np.mean(scores), np.std(scores))\n",
    ")"
   ]
  },
  {
   "cell_type": "code",
   "execution_count": 5,
   "metadata": {},
   "outputs": [],
   "source": [
    "# Regression\n",
    "import pickle\n",
    "\n",
    "X_train, y_train = pickle.load(open(\"cadata.pickle\", \"rb\"))\n",
    "from sklearn.preprocessing import scale\n",
    "\n",
    "first_rows = 6000\n",
    "X_train = scale(X_train[:first_rows, :].toarray())\n",
    "y_train = y_train[:first_rows] / 10**4.0  # Resoults will be in 1000s of dolars"
   ]
  },
  {
   "cell_type": "code",
   "execution_count": 6,
   "metadata": {},
   "outputs": [
    {
     "name": "stdout",
     "output_type": "stream",
     "text": [
      "RandomForestRegressor -> accuracy of cross-validation:\n",
      "mean = -8.373486\n",
      "standard deviation = 0.612176\n"
     ]
    }
   ],
   "source": [
    "hypotesis = RandomForestRegressor(n_estimators=600, random_state=101)\n",
    "scores = cross_val_score(\n",
    "    hypotesis, X_train, y_train, cv=3, scoring=\"neg_mean_absolute_error\", n_jobs=-1\n",
    ")\n",
    "print(\n",
    "    \"RandomForestRegressor -> accuracy of cross-validation:\\nmean = %f\\nstandard deviation = %f\"\n",
    "    % (np.mean(scores), np.std(scores))\n",
    ")"
   ]
  },
  {
   "cell_type": "code",
   "execution_count": 7,
   "metadata": {},
   "outputs": [
    {
     "name": "stdout",
     "output_type": "stream",
     "text": [
      "RandomForestRegressor -> accuracy of cross-validation:\n",
      "mean = -8.129034\n",
      "standard deviation = 0.700811\n"
     ]
    }
   ],
   "source": [
    "hypotesis = ExtraTreesRegressor(n_estimators=600, random_state=101)\n",
    "scores = cross_val_score(\n",
    "    hypotesis, X_train, y_train, cv=3, scoring=\"neg_mean_absolute_error\", n_jobs=-1\n",
    ")\n",
    "print(\n",
    "    \"RandomForestRegressor -> accuracy of cross-validation:\\nmean = %f\\nstandard deviation = %f\"\n",
    "    % (np.mean(scores), np.std(scores))\n",
    ")"
   ]
  },
  {
   "cell_type": "code",
   "execution_count": null,
   "metadata": {},
   "outputs": [],
   "source": []
  }
 ],
 "metadata": {
  "kernelspec": {
   "display_name": "Python 3",
   "language": "python",
   "name": "python3"
  },
  "language_info": {
   "codemirror_mode": {
    "name": "ipython",
    "version": 3
   },
   "file_extension": ".py",
   "mimetype": "text/x-python",
   "name": "python",
   "nbconvert_exporter": "python",
   "pygments_lexer": "ipython3",
   "version": "3.7.2"
  }
 },
 "nbformat": 4,
 "nbformat_minor": 2
}
