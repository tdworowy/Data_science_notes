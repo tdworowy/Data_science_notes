{
 "cells": [
  {
   "cell_type": "code",
   "execution_count": 3,
   "metadata": {},
   "outputs": [
    {
     "data": {
      "text/plain": [
       "[array([25610, 13553, 13699, 21903, 10113,  6815, 11053,  6668, 24389,\n",
       "        16985], dtype=int32)]"
      ]
     },
     "execution_count": 3,
     "metadata": {},
     "output_type": "execute_result"
    }
   ],
   "source": [
    "# LSA-Latent semarical analysis\n",
    "from sklearn.datasets import fetch_20newsgroups\n",
    "from sklearn.feature_extraction.text import TfidfVectorizer\n",
    "from sklearn.decomposition import TruncatedSVD\n",
    "import numpy as np\n",
    "\n",
    "categories = [\"sci.med\", \"sci.space\"]\n",
    "twenty_sci_news = fetch_20newsgroups(categories=categories)\n",
    "tf_vect = TfidfVectorizer()\n",
    "word_freq = tf_vect.fit_transform(twenty_sci_news.data)\n",
    "tsvd_2c = TruncatedSVD(n_components=50)\n",
    "tsvd_2c.fit(word_freq)\n",
    "np.array(tf_vect.get_feature_names())\n",
    "\n",
    "[\n",
    "    tsvd_2c.components_[20].argsort()[-10:][::-1]\n",
    "]  # it should display words (version issue?)"
   ]
  },
  {
   "cell_type": "code",
   "execution_count": null,
   "metadata": {},
   "outputs": [],
   "source": []
  }
 ],
 "metadata": {
  "kernelspec": {
   "display_name": "Python 3",
   "language": "python",
   "name": "python3"
  },
  "language_info": {
   "codemirror_mode": {
    "name": "ipython",
    "version": 3
   },
   "file_extension": ".py",
   "mimetype": "text/x-python",
   "name": "python",
   "nbconvert_exporter": "python",
   "pygments_lexer": "ipython3",
   "version": "3.6.0"
  }
 },
 "nbformat": 4,
 "nbformat_minor": 2
}
