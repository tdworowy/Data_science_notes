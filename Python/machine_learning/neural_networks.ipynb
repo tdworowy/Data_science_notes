{
 "cells": [
  {
   "cell_type": "code",
   "execution_count": 1,
   "metadata": {},
   "outputs": [
    {
     "name": "stderr",
     "output_type": "stream",
     "text": [
      "Using TensorFlow backend.\n"
     ]
    }
   ],
   "source": [
    "import warnings\n",
    "\n",
    "warnings.filterwarnings(\"ignore\")\n",
    "\n",
    "from keras.models import Sequential\n",
    "from keras.layers import Dense, Dropout, Flatten\n",
    "from keras.layers.convolutional import Convolution2D, MaxPooling2D\n",
    "from keras.utils import np_utils\n",
    "import numpy as np\n",
    "from keras import backend as K\n",
    "\n",
    "K.set_image_dim_ordering(\"th\")"
   ]
  },
  {
   "cell_type": "code",
   "execution_count": 2,
   "metadata": {},
   "outputs": [],
   "source": [
    "from keras.datasets import mnist\n",
    "\n",
    "(X_train, y_train), (X_test, y_test) = mnist.load_data()"
   ]
  },
  {
   "cell_type": "code",
   "execution_count": 3,
   "metadata": {},
   "outputs": [],
   "source": [
    "num_pixels = X_train.shape[1] * X_train.shape[2]\n",
    "n_channels = 1  # All picutures are in shades of gray\n",
    "\n",
    "\n",
    "def preprocess(matrix):\n",
    "    return (\n",
    "        matrix.reshape(\n",
    "            matrix.shape[0], n_channels, matrix.shape[1], matrix.shape[2]\n",
    "        ).astype(\"float32\")\n",
    "        / 255.0\n",
    "    )"
   ]
  },
  {
   "cell_type": "code",
   "execution_count": 4,
   "metadata": {},
   "outputs": [
    {
     "name": "stdout",
     "output_type": "stream",
     "text": [
      "(60000, 28, 28)\n",
      "uint8\n",
      "255\n"
     ]
    }
   ],
   "source": [
    "print(X_train.shape)\n",
    "print(X_train.dtype)\n",
    "print(np.max(X_train))"
   ]
  },
  {
   "cell_type": "code",
   "execution_count": 5,
   "metadata": {},
   "outputs": [],
   "source": [
    "X_train, X_test = preprocess(X_train), preprocess(X_test)"
   ]
  },
  {
   "cell_type": "code",
   "execution_count": 6,
   "metadata": {},
   "outputs": [
    {
     "name": "stdout",
     "output_type": "stream",
     "text": [
      "(60000, 1, 28, 28)\n",
      "float32\n",
      "1.0\n"
     ]
    }
   ],
   "source": [
    "print(X_train.shape)\n",
    "print(X_train.dtype)\n",
    "print(np.max(X_train))"
   ]
  },
  {
   "cell_type": "code",
   "execution_count": 7,
   "metadata": {},
   "outputs": [
    {
     "name": "stdout",
     "output_type": "stream",
     "text": [
      "(60000, 10)\n",
      "10\n"
     ]
    }
   ],
   "source": [
    "y_train = np_utils.to_categorical(y_train)\n",
    "y_test = np_utils.to_categorical(y_test)\n",
    "num_classes = y_train.shape[1]\n",
    "print(y_train.shape)\n",
    "print(y_train.shape[1])"
   ]
  },
  {
   "cell_type": "code",
   "execution_count": 8,
   "metadata": {},
   "outputs": [],
   "source": [
    "def basline_model():\n",
    "    model = Sequential()\n",
    "    model.add(Flatten(input_shape=(1, 28, 28)))\n",
    "    model.add(Dense(num_pixels, activation=\"relu\", kernel_initializer=\"normal\"))\n",
    "    model.add(Dense(num_classes, activation=\"softmax\", kernel_initializer=\"normal\"))\n",
    "    model.compile(\n",
    "        loss=\"categorical_crossentropy\", optimizer=\"adam\", metrics=[\"accuracy\"]\n",
    "    )\n",
    "    return model"
   ]
  },
  {
   "cell_type": "code",
   "execution_count": 9,
   "metadata": {},
   "outputs": [],
   "source": [
    "def convolution_small():\n",
    "    model = Sequential()\n",
    "    model.add(\n",
    "        Convolution2D(\n",
    "            32, 5, 5, border_mode=\"valid\", input_shape=(1, 28, 28), activation=\"relu\"\n",
    "        )\n",
    "    )\n",
    "    model.add(MaxPooling2D(pool_size=(2, 2)))\n",
    "    model.add(Dropout(0.2))\n",
    "    model.add(Flatten())\n",
    "    model.add(Dense(128, activation=\"relu\"))\n",
    "    model.add(Dense(num_classes, activation=\"softmax\"))\n",
    "    model.compile(\n",
    "        loss=\"categorical_crossentropy\", optimizer=\"adam\", metrics=[\"accuracy\"]\n",
    "    )\n",
    "    return model"
   ]
  },
  {
   "cell_type": "code",
   "execution_count": 10,
   "metadata": {},
   "outputs": [],
   "source": [
    "def convolution_large():\n",
    "    model = Sequential()\n",
    "    model.add(\n",
    "        Convolution2D(\n",
    "            30, 5, 5, border_mode=\"valid\", input_shape=(1, 28, 28), activation=\"relu\"\n",
    "        )\n",
    "    )\n",
    "    model.add(MaxPooling2D(pool_size=(2, 2)))\n",
    "    model.add(Convolution2D(15, 3, 3, activation=\"relu\"))\n",
    "    model.add(MaxPooling2D(pool_size=(2, 2)))\n",
    "    model.add(Dropout(0.2))\n",
    "    model.add(Flatten())\n",
    "    model.add(Dense(128, activation=\"relu\"))\n",
    "    model.add(Dense(50, activation=\"relu\"))\n",
    "    model.add(Dense(num_classes, activation=\"softmax\"))\n",
    "    model.compile(\n",
    "        loss=\"categorical_crossentropy\", optimizer=\"adam\", metrics=[\"accuracy\"]\n",
    "    )\n",
    "    return model"
   ]
  },
  {
   "cell_type": "code",
   "execution_count": 11,
   "metadata": {},
   "outputs": [
    {
     "name": "stdout",
     "output_type": "stream",
     "text": [
      "WARNING:tensorflow:From d:\\python\\lib\\site-packages\\tensorflow\\python\\framework\\op_def_library.py:263: colocate_with (from tensorflow.python.framework.ops) is deprecated and will be removed in a future version.\n",
      "Instructions for updating:\n",
      "Colocations handled automatically by placer.\n",
      "WARNING:tensorflow:From d:\\python\\lib\\site-packages\\keras\\backend\\tensorflow_backend.py:3445: calling dropout (from tensorflow.python.ops.nn_ops) with keep_prob is deprecated and will be removed in a future version.\n",
      "Instructions for updating:\n",
      "Please use `rate` instead of `keep_prob`. Rate should be set to `rate = 1 - keep_prob`.\n",
      "Model: Baseline\n",
      "WARNING:tensorflow:From d:\\python\\lib\\site-packages\\tensorflow\\python\\ops\\math_ops.py:3066: to_int32 (from tensorflow.python.ops.math_ops) is deprecated and will be removed in a future version.\n",
      "Instructions for updating:\n",
      "Use tf.cast instead.\n",
      "Train on 60000 samples, validate on 10000 samples\n",
      "Epoch 1/10\n",
      " - 8s - loss: 0.2296 - acc: 0.9337 - val_loss: 0.1124 - val_acc: 0.9682\n",
      "Epoch 2/10\n",
      " - 8s - loss: 0.0904 - acc: 0.9731 - val_loss: 0.0827 - val_acc: 0.9743\n",
      "Epoch 3/10\n",
      " - 8s - loss: 0.0566 - acc: 0.9828 - val_loss: 0.0642 - val_acc: 0.9786\n",
      "Epoch 4/10\n",
      " - 8s - loss: 0.0378 - acc: 0.9887 - val_loss: 0.0692 - val_acc: 0.9779\n",
      "Epoch 5/10\n",
      " - 8s - loss: 0.0259 - acc: 0.9924 - val_loss: 0.0722 - val_acc: 0.9782\n",
      "Epoch 6/10\n",
      " - 8s - loss: 0.0208 - acc: 0.9938 - val_loss: 0.0639 - val_acc: 0.9805\n",
      "Epoch 7/10\n",
      " - 8s - loss: 0.0148 - acc: 0.9958 - val_loss: 0.0661 - val_acc: 0.9801\n",
      "Epoch 8/10\n",
      " - 8s - loss: 0.0112 - acc: 0.9966 - val_loss: 0.0634 - val_acc: 0.9818\n",
      "Epoch 9/10\n",
      " - 8s - loss: 0.0098 - acc: 0.9972 - val_loss: 0.0734 - val_acc: 0.9782\n",
      "Epoch 10/10\n",
      " - 8s - loss: 0.0089 - acc: 0.9971 - val_loss: 0.0802 - val_acc: 0.9795\n",
      "Base error: 2.050000\n",
      "____________________\n",
      "Model: Small\n",
      "Train on 60000 samples, validate on 10000 samples\n",
      "Epoch 1/10\n",
      " - 41s - loss: 0.1883 - acc: 0.9453 - val_loss: 0.0611 - val_acc: 0.9811\n",
      "Epoch 2/10\n",
      " - 41s - loss: 0.0623 - acc: 0.9807 - val_loss: 0.0418 - val_acc: 0.9866\n",
      "Epoch 3/10\n",
      " - 44s - loss: 0.0435 - acc: 0.9866 - val_loss: 0.0378 - val_acc: 0.9872\n",
      "Epoch 4/10\n",
      " - 41s - loss: 0.0338 - acc: 0.9897 - val_loss: 0.0391 - val_acc: 0.9868\n",
      "Epoch 5/10\n",
      " - 45s - loss: 0.0260 - acc: 0.9919 - val_loss: 0.0315 - val_acc: 0.9907\n",
      "Epoch 6/10\n",
      " - 44s - loss: 0.0213 - acc: 0.9931 - val_loss: 0.0329 - val_acc: 0.9901\n",
      "Epoch 7/10\n",
      " - 44s - loss: 0.0166 - acc: 0.9945 - val_loss: 0.0399 - val_acc: 0.9882\n",
      "Epoch 8/10\n",
      " - 43s - loss: 0.0137 - acc: 0.9955 - val_loss: 0.0395 - val_acc: 0.9892\n",
      "Epoch 9/10\n",
      " - 44s - loss: 0.0133 - acc: 0.9954 - val_loss: 0.0339 - val_acc: 0.9904\n",
      "Epoch 10/10\n",
      " - 41s - loss: 0.0108 - acc: 0.9963 - val_loss: 0.0369 - val_acc: 0.9901\n",
      "Base error: 0.990000\n",
      "____________________\n",
      "Model: Large\n",
      "Train on 60000 samples, validate on 10000 samples\n",
      "Epoch 1/10\n",
      " - 42s - loss: 0.2746 - acc: 0.9121 - val_loss: 0.0632 - val_acc: 0.9800\n",
      "Epoch 2/10\n",
      " - 41s - loss: 0.0781 - acc: 0.9764 - val_loss: 0.0473 - val_acc: 0.9843\n",
      "Epoch 3/10\n",
      " - 41s - loss: 0.0578 - acc: 0.9822 - val_loss: 0.0379 - val_acc: 0.9881\n",
      "Epoch 4/10\n",
      " - 41s - loss: 0.0473 - acc: 0.9857 - val_loss: 0.0305 - val_acc: 0.9909\n",
      "Epoch 5/10\n",
      " - 41s - loss: 0.0420 - acc: 0.9871 - val_loss: 0.0265 - val_acc: 0.9913\n",
      "Epoch 6/10\n",
      " - 41s - loss: 0.0356 - acc: 0.9887 - val_loss: 0.0288 - val_acc: 0.9912\n",
      "Epoch 7/10\n",
      " - 41s - loss: 0.0326 - acc: 0.9898 - val_loss: 0.0297 - val_acc: 0.9905\n",
      "Epoch 8/10\n",
      " - 41s - loss: 0.0297 - acc: 0.9901 - val_loss: 0.0226 - val_acc: 0.9930\n",
      "Epoch 9/10\n",
      " - 41s - loss: 0.0273 - acc: 0.9912 - val_loss: 0.0266 - val_acc: 0.9914\n",
      "Epoch 10/10\n",
      " - 42s - loss: 0.0241 - acc: 0.9922 - val_loss: 0.0247 - val_acc: 0.9926\n",
      "Base error: 0.740000\n",
      "____________________\n"
     ]
    }
   ],
   "source": [
    "np.random.seed(101)\n",
    "models = [\n",
    "    (\"Baseline\", basline_model()),\n",
    "    (\"Small\", convolution_small()),\n",
    "    (\"Large\", convolution_large()),\n",
    "]\n",
    "for name, model in models:\n",
    "    print(\"Model: %s\" % name)\n",
    "    model.fit(\n",
    "        X_train,\n",
    "        y_train,\n",
    "        validation_data=(X_test, y_test),\n",
    "        nb_epoch=10,\n",
    "        batch_size=100,\n",
    "        verbose=2,\n",
    "    )\n",
    "    scores = model.evaluate(X_test, y_test, verbose=0)\n",
    "    print(\"Base error: %f\" % (100 - scores[1] * 100))\n",
    "    print(\"_\" * 20)"
   ]
  },
  {
   "cell_type": "code",
   "execution_count": null,
   "metadata": {},
   "outputs": [],
   "source": []
  }
 ],
 "metadata": {
  "kernelspec": {
   "display_name": "Python 3",
   "language": "python",
   "name": "python3"
  },
  "language_info": {
   "codemirror_mode": {
    "name": "ipython",
    "version": 3
   },
   "file_extension": ".py",
   "mimetype": "text/x-python",
   "name": "python",
   "nbconvert_exporter": "python",
   "pygments_lexer": "ipython3",
   "version": "3.7.2"
  }
 },
 "nbformat": 4,
 "nbformat_minor": 2
}
