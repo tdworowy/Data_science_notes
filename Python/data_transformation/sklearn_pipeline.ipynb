{
 "cells": [
  {
   "cell_type": "code",
   "execution_count": 1,
   "metadata": {},
   "outputs": [],
   "source": [
    "from sklearn.model_selection import train_test_split\n",
    "import numpy as np\n",
    "from sklearn.datasets import make_classification\n",
    "from sklearn.linear_model import LogisticRegression\n",
    "from sklearn.pipeline import Pipeline, FeatureUnion\n",
    "\n",
    "X, y = make_classification(\n",
    "    n_samples=100, n_features=100, n_informative=5, n_redundant=2, random_state=101\n",
    ")\n",
    "X_train, X_test, y_train, y_test = train_test_split(\n",
    "    X, y, test_size=0.30, random_state=101\n",
    ")\n",
    "\n",
    "\n",
    "classifier = LogisticRegression(C=0.1, penalty=\"l1\", random_state=101)"
   ]
  },
  {
   "cell_type": "code",
   "execution_count": 2,
   "metadata": {},
   "outputs": [],
   "source": [
    "# define parallel steps\n",
    "from sklearn.decomposition import PCA, KernelPCA\n",
    "from sklearn.preprocessing import FunctionTransformer\n",
    "\n",
    "\n",
    "def identity(x):\n",
    "    return x\n",
    "\n",
    "\n",
    "def inverse(x):\n",
    "    return 1.0 / x\n",
    "\n",
    "\n",
    "paraller = FeatureUnion(\n",
    "    transformer_list=[\n",
    "        (\"pca\", PCA()),\n",
    "        (\"kernelpca\", KernelPCA()),\n",
    "        (\"inverse\", FunctionTransformer(inverse, validate=True)),\n",
    "        (\"original\", FunctionTransformer(identity, validate=True)),\n",
    "    ],\n",
    "    n_jobs=-1,\n",
    ")"
   ]
  },
  {
   "cell_type": "code",
   "execution_count": 3,
   "metadata": {},
   "outputs": [
    {
     "name": "stderr",
     "output_type": "stream",
     "text": [
      "d:\\python\\lib\\site-packages\\sklearn\\utils\\deprecation.py:58: DeprecationWarning: Class RandomizedLogisticRegression is deprecated; The class RandomizedLogisticRegression is deprecated in 0.19 and will be removed in 0.21.\n",
      "  warnings.warn(msg, category=DeprecationWarning)\n"
     ]
    }
   ],
   "source": [
    "# define date pipeline\n",
    "from sklearn.preprocessing import RobustScaler\n",
    "from sklearn.linear_model import RandomizedLogisticRegression\n",
    "from sklearn.feature_selection import RFECV\n",
    "\n",
    "selector = RandomizedLogisticRegression(n_resampling=300, random_state=101, n_jobs=-1)\n",
    "pipeline = Pipeline(\n",
    "    steps=[\n",
    "        (\"paraller_transformation\", paraller),\n",
    "        (\"random_selection\", selector),\n",
    "        (\"logistic_reg\", classifier),\n",
    "    ]\n",
    ")"
   ]
  },
  {
   "cell_type": "code",
   "execution_count": 6,
   "metadata": {},
   "outputs": [
    {
     "data": {
      "text/plain": [
       "GridSearchCV(cv=10, error_score='raise-deprecating',\n",
       "       estimator=Pipeline(memory=None,\n",
       "     steps=[('paraller_transformation', FeatureUnion(n_jobs=-1,\n",
       "       transformer_list=[('pca', PCA(copy=True, iterated_power='auto', n_components=None, random_state=None,\n",
       "  svd_solver='auto', tol=0.0, whiten=False)), ('kernelpca', KernelPCA(alpha=1.0, coef0=1, copy_X=True, degree=3, eigen_solver='auto'... penalty='l1', random_state=101, solver='warn',\n",
       "          tol=0.0001, verbose=0, warm_start=False))]),\n",
       "       fit_params=None, iid=False, n_jobs=-1,\n",
       "       param_grid={'logistic_reg__C': [100, 10, 1, 0.1, 0.01], 'logistic_reg__penalty': ['l1', 'l2']},\n",
       "       pre_dispatch='2*n_jobs', refit=True, return_train_score='warn',\n",
       "       scoring='accuracy', verbose=0)"
      ]
     },
     "execution_count": 6,
     "metadata": {},
     "output_type": "execute_result"
    }
   ],
   "source": [
    "# find best combination of parameres\n",
    "import warnings\n",
    "\n",
    "warnings.filterwarnings(\"ignore\")\n",
    "\n",
    "from sklearn.model_selection import GridSearchCV\n",
    "\n",
    "search_dict = {\n",
    "    \"logistic_reg__C\": [100, 10, 1, 0.1, 0.01],\n",
    "    \"logistic_reg__penalty\": [\"l1\", \"l2\"],\n",
    "}\n",
    "search_func = GridSearchCV(\n",
    "    estimator=pipeline,\n",
    "    param_grid=search_dict,\n",
    "    scoring=\"accuracy\",\n",
    "    n_jobs=-1,\n",
    "    iid=False,\n",
    "    refit=True,\n",
    "    cv=10,\n",
    ")\n",
    "search_func.fit(X_train, y_train)"
   ]
  },
  {
   "cell_type": "code",
   "execution_count": 8,
   "metadata": {},
   "outputs": [
    {
     "name": "stdout",
     "output_type": "stream",
     "text": [
      "BEST ESTIMATOR\n",
      "Pipeline(memory=None,\n",
      "     steps=[('paraller_transformation', FeatureUnion(n_jobs=-1,\n",
      "       transformer_list=[('pca', PCA(copy=True, iterated_power='auto', n_components=None, random_state=None,\n",
      "  svd_solver='auto', tol=0.0, whiten=False)), ('kernelpca', KernelPCA(alpha=1.0, coef0=1, copy_X=True, degree=3, eigen_solver='auto'... penalty='l2', random_state=101, solver='warn',\n",
      "          tol=0.0001, verbose=0, warm_start=False))])\n",
      "BEST SCORE\n",
      "0.7369047619047618\n",
      "BEST PARAMS\n",
      "{'logistic_reg__C': 1, 'logistic_reg__penalty': 'l2'}\n"
     ]
    }
   ],
   "source": [
    "print(\"BEST ESTIMATOR\")\n",
    "print(search_func.best_estimator_)\n",
    "print(\"BEST SCORE\")\n",
    "print(search_func.best_score_)\n",
    "print(\"BEST PARAMS\")\n",
    "print(search_func.best_params_)"
   ]
  },
  {
   "cell_type": "code",
   "execution_count": 10,
   "metadata": {},
   "outputs": [
    {
     "name": "stdout",
     "output_type": "stream",
     "text": [
      "Result for test data:\n",
      "              precision    recall  f1-score   support\n",
      "\n",
      "           0       0.82      0.75      0.78        12\n",
      "           1       0.84      0.89      0.86        18\n",
      "\n",
      "   micro avg       0.83      0.83      0.83        30\n",
      "   macro avg       0.83      0.82      0.82        30\n",
      "weighted avg       0.83      0.83      0.83        30\n",
      "\n",
      "Result for train data:\n",
      "              precision    recall  f1-score   support\n",
      "\n",
      "           0       0.87      0.89      0.88        38\n",
      "           1       0.87      0.84      0.86        32\n",
      "\n",
      "   micro avg       0.87      0.87      0.87        70\n",
      "   macro avg       0.87      0.87      0.87        70\n",
      "weighted avg       0.87      0.87      0.87        70\n",
      "\n"
     ]
    }
   ],
   "source": [
    "# Generate prediction for test (and terin) data\n",
    "from sklearn.metrics import classification_report\n",
    "\n",
    "print(\"Result for test data:\")\n",
    "print(classification_report(y_test, search_func.predict(X_test)))\n",
    "print(\"Result for train data:\")\n",
    "print(classification_report(y_train, search_func.predict(X_train)))"
   ]
  },
  {
   "cell_type": "code",
   "execution_count": null,
   "metadata": {},
   "outputs": [],
   "source": []
  }
 ],
 "metadata": {
  "kernelspec": {
   "display_name": "Python 3",
   "language": "python",
   "name": "python3"
  },
  "language_info": {
   "codemirror_mode": {
    "name": "ipython",
    "version": 3
   },
   "file_extension": ".py",
   "mimetype": "text/x-python",
   "name": "python",
   "nbconvert_exporter": "python",
   "pygments_lexer": "ipython3",
   "version": "3.7.2"
  }
 },
 "nbformat": 4,
 "nbformat_minor": 2
}
