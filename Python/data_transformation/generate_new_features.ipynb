{
 "cells": [
  {
   "cell_type": "code",
   "execution_count": 1,
   "metadata": {
    "scrolled": true
   },
   "outputs": [
    {
     "name": "stderr",
     "output_type": "stream",
     "text": [
      "d:\\python\\lib\\site-packages\\sklearn\\model_selection\\_split.py:2179: FutureWarning: From version 0.21, test_size will always complement train_size unless both are specified.\n",
      "  FutureWarning)\n"
     ]
    }
   ],
   "source": [
    "import numpy as np\n",
    "from sklearn import datasets\n",
    "from sklearn.model_selection import train_test_split\n",
    "from sklearn.metrics import mean_squared_error\n",
    "\n",
    "cali = datasets.california_housing.fetch_california_housing()\n",
    "\n",
    "X = cali[\"data\"]\n",
    "Y = cali[\"target\"]\n",
    "\n",
    "X_train, X_test, Y_train, Y_test = train_test_split(X, Y, train_size=0.8)"
   ]
  },
  {
   "cell_type": "code",
   "execution_count": 2,
   "metadata": {},
   "outputs": [
    {
     "name": "stdout",
     "output_type": "stream",
     "text": [
      "MAE= 1.149965795881026\n"
     ]
    }
   ],
   "source": [
    "# MAE = Mean Absolute Error\n",
    "from sklearn.neighbors import KNeighborsRegressor\n",
    "\n",
    "regressor = KNeighborsRegressor()\n",
    "regressor.fit(X_train, Y_train)\n",
    "Y_est = regressor.predict(X_test)\n",
    "\n",
    "print(\"MAE=\", mean_squared_error(Y_test, Y_est))"
   ]
  },
  {
   "cell_type": "code",
   "execution_count": 3,
   "metadata": {},
   "outputs": [
    {
     "name": "stdout",
     "output_type": "stream",
     "text": [
      "MAE= 0.3704016856129506\n"
     ]
    }
   ],
   "source": [
    "# Standaryzation, StandardScaler\n",
    "from sklearn.preprocessing import StandardScaler\n",
    "\n",
    "scaler = StandardScaler()\n",
    "X_train_scaled = scaler.fit_transform(X_train)\n",
    "X_test_scaled = scaler.transform(X_test)\n",
    "\n",
    "regressor = KNeighborsRegressor()\n",
    "regressor.fit(X_train_scaled, Y_train)\n",
    "Y_est = regressor.predict(X_test_scaled)\n",
    "\n",
    "print(\"MAE=\", mean_squared_error(Y_test, Y_est))"
   ]
  },
  {
   "cell_type": "code",
   "execution_count": 4,
   "metadata": {},
   "outputs": [
    {
     "name": "stdout",
     "output_type": "stream",
     "text": [
      "MAE= 0.41563162071090987\n"
     ]
    }
   ],
   "source": [
    "# Standaryzation, RobustScaler\n",
    "from sklearn.preprocessing import RobustScaler\n",
    "\n",
    "scaler = RobustScaler()\n",
    "X_train_scaled = scaler.fit_transform(X_train)\n",
    "X_test_scaled = scaler.transform(X_test)\n",
    "\n",
    "regressor = KNeighborsRegressor()\n",
    "regressor.fit(X_train_scaled, Y_train)\n",
    "Y_est = regressor.predict(X_test_scaled)\n",
    "\n",
    "print(\"MAE=\", mean_squared_error(Y_test, Y_est))"
   ]
  },
  {
   "cell_type": "code",
   "execution_count": 5,
   "metadata": {},
   "outputs": [
    {
     "name": "stdout",
     "output_type": "stream",
     "text": [
      "MAE= 0.3983187864009137\n"
     ]
    }
   ],
   "source": [
    "# non linear feature transformaion StandardScaler\n",
    "# there is significant difference between price of house with 1 and with 3 to 5 inhabitants\n",
    "# but that diference decrese inversely proportional to numbers of inhabitants\n",
    "\n",
    "non_linear_feat = 5  # number of inhabitants\n",
    "X_train_new_feat = np.sqrt(X_train[:, non_linear_feat])\n",
    "X_train_new_feat.shape = (X_train_new_feat.shape[0], 1)\n",
    "X_train_extended = np.hstack([X_train, X_train_new_feat])\n",
    "\n",
    "X_test_new_feat = np.sqrt(X_test[:, non_linear_feat])\n",
    "X_test_new_feat.shape = (X_test_new_feat.shape[0], 1)\n",
    "X_test_extended = np.hstack([X_test, X_test_new_feat])\n",
    "\n",
    "scaler = StandardScaler()\n",
    "X_train_extended_scaled = scaler.fit_transform(X_train_extended)\n",
    "X_test_extended_scaled = scaler.fit_transform(X_test_extended)\n",
    "\n",
    "regressor = KNeighborsRegressor()\n",
    "regressor.fit(X_train_extended_scaled, Y_train)\n",
    "Y_est = regressor.predict(X_test_extended_scaled)\n",
    "\n",
    "print(\"MAE=\", mean_squared_error(Y_test, Y_est))"
   ]
  },
  {
   "cell_type": "code",
   "execution_count": 6,
   "metadata": {},
   "outputs": [
    {
     "name": "stdout",
     "output_type": "stream",
     "text": [
      "MAE= 0.4170630680831075\n"
     ]
    }
   ],
   "source": [
    "# non linear feature transformaion RobustScaler\n",
    "# there is significant difference between price of house with 1 and with 3 to 5 inhabitants\n",
    "# but that diference decrese inversely proportional to numbers of inhabitants\n",
    "\n",
    "non_linear_feat = 5  # number of inhabitants\n",
    "X_train_new_feat = np.sqrt(X_train[:, non_linear_feat])\n",
    "X_train_new_feat.shape = (X_train_new_feat.shape[0], 1)\n",
    "X_train_extended = np.hstack([X_train, X_train_new_feat])\n",
    "\n",
    "X_test_new_feat = np.sqrt(X_test[:, non_linear_feat])\n",
    "X_test_new_feat.shape = (X_test_new_feat.shape[0], 1)\n",
    "X_test_extended = np.hstack([X_test, X_test_new_feat])\n",
    "\n",
    "scaler = RobustScaler()\n",
    "X_train_extended_scaled = scaler.fit_transform(X_train_extended)\n",
    "X_test_extended_scaled = scaler.fit_transform(X_test_extended)\n",
    "\n",
    "regressor = KNeighborsRegressor()\n",
    "regressor.fit(X_train_extended_scaled, Y_train)\n",
    "Y_est = regressor.predict(X_test_extended_scaled)\n",
    "\n",
    "print(\"MAE=\", mean_squared_error(Y_test, Y_est))"
   ]
  },
  {
   "cell_type": "code",
   "execution_count": null,
   "metadata": {},
   "outputs": [],
   "source": []
  }
 ],
 "metadata": {
  "kernelspec": {
   "display_name": "Python 3",
   "language": "python",
   "name": "python3"
  },
  "language_info": {
   "codemirror_mode": {
    "name": "ipython",
    "version": 3
   },
   "file_extension": ".py",
   "mimetype": "text/x-python",
   "name": "python",
   "nbconvert_exporter": "python",
   "pygments_lexer": "ipython3",
   "version": "3.6.0"
  }
 },
 "nbformat": 4,
 "nbformat_minor": 2
}
