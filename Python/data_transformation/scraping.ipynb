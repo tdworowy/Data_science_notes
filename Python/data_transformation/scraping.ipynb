{
 "cells": [
  {
   "cell_type": "code",
   "execution_count": 1,
   "metadata": {},
   "outputs": [],
   "source": [
    "import urllib.request\n",
    "from bs4 import BeautifulSoup\n",
    "\n",
    "\n",
    "def get_soup(url):\n",
    "    request = urllib.request.Request(url)\n",
    "    response = urllib.request.urlopen(request)\n",
    "    return BeautifulSoup(response, \"html.parser\")"
   ]
  },
  {
   "cell_type": "code",
   "execution_count": 2,
   "metadata": {},
   "outputs": [],
   "source": [
    "from bs4 import BeautifulSoup\n",
    "\n",
    "url = \"https://en.wikipedia.org/wiki/William_Shakespeare\"\n",
    "soup = get_soup(url)"
   ]
  },
  {
   "cell_type": "code",
   "execution_count": 3,
   "metadata": {},
   "outputs": [
    {
     "data": {
      "text/plain": [
       "<title>William Shakespeare - Wikipedia</title>"
      ]
     },
     "execution_count": 3,
     "metadata": {},
     "output_type": "execute_result"
    }
   ],
   "source": [
    "soup.title"
   ]
  },
  {
   "cell_type": "code",
   "execution_count": 4,
   "metadata": {},
   "outputs": [],
   "source": [
    "def get_links(soup):\n",
    "    try:\n",
    "        section = soup.find_all(id=\"mw-normal-catlinks\")[0]\n",
    "    except IndexError:\n",
    "        return []\n",
    "\n",
    "    links = []\n",
    "    for catlink in section.find_all(\"a\")[1:]:\n",
    "        link = catlink.get(\"href\")\n",
    "        print(catlink.get(\"title\"), \"->\", link)\n",
    "        links.append(link)\n",
    "    return links"
   ]
  },
  {
   "cell_type": "code",
   "execution_count": 7,
   "metadata": {},
   "outputs": [
    {
     "name": "stdout",
     "output_type": "stream",
     "text": [
      "Category:William Shakespeare -> /wiki/Category:William_Shakespeare\n",
      "Category:1564 births -> /wiki/Category:1564_births\n",
      "Category:1616 deaths -> /wiki/Category:1616_deaths\n",
      "Category:16th-century English male actors -> /wiki/Category:16th-century_English_male_actors\n",
      "Category:English male stage actors -> /wiki/Category:English_male_stage_actors\n",
      "Category:16th-century dramatists and playwrights -> /wiki/Category:16th-century_dramatists_and_playwrights\n",
      "Category:17th-century English dramatists and playwrights -> /wiki/Category:17th-century_English_dramatists_and_playwrights\n",
      "Category:16th-century English poets -> /wiki/Category:16th-century_English_poets\n",
      "Category:Burials in Warwickshire -> /wiki/Category:Burials_in_Warwickshire\n",
      "Category:People from Warwickshire -> /wiki/Category:People_from_Warwickshire\n",
      "Category:17th-century English poets -> /wiki/Category:17th-century_English_poets\n",
      "Category:17th-century male writers -> /wiki/Category:17th-century_male_writers\n",
      "Category:English Renaissance dramatists -> /wiki/Category:English_Renaissance_dramatists\n",
      "Category:English male writers -> /wiki/Category:English_male_writers\n",
      "Category:People educated at King Edward VI School, Stratford-upon-Avon -> /wiki/Category:People_educated_at_King_Edward_VI_School,_Stratford-upon-Avon\n",
      "Category:People from Stratford-upon-Avon -> /wiki/Category:People_from_Stratford-upon-Avon\n",
      "Category:People of the Elizabethan era -> /wiki/Category:People_of_the_Elizabethan_era\n",
      "Category:People of the Stuart period -> /wiki/Category:People_of_the_Stuart_period\n",
      "Category:Shakespeare family -> /wiki/Category:Shakespeare_family\n",
      "Category:Sonneteers -> /wiki/Category:Sonneteers\n",
      "Category:King's Men (playing company) -> /wiki/Category:King%27s_Men_(playing_company)\n",
      "Category:17th-century English male actors -> /wiki/Category:17th-century_English_male_actors\n",
      "Category:English male dramatists and playwrights -> /wiki/Category:English_male_dramatists_and_playwrights\n",
      "Category:English male poets -> /wiki/Category:English_male_poets\n",
      "Category:1564 -> /wiki/Category:1564\n",
      "Category:1560s births -> /wiki/Category:1560s_births\n",
      "Category:1616 -> /wiki/Category:1616\n",
      "Category:1610s deaths -> /wiki/Category:1610s_deaths\n",
      "Category:16th-century English actors -> /wiki/Category:16th-century_English_actors\n",
      "Category:16th-century male actors -> /wiki/Category:16th-century_male_actors\n",
      "Category:English male actors by century -> /wiki/Category:English_male_actors_by_century\n",
      "Category:English male stage actors -> /wiki/Category:English_male_stage_actors\n",
      "Category:British male stage actors -> /wiki/Category:British_male_stage_actors\n",
      "Category:English male actors by medium -> /wiki/Category:English_male_actors_by_medium\n",
      "Category:English stage actors -> /wiki/Category:English_stage_actors\n",
      "Category:16th-century theatre -> /wiki/Category:16th-century_theatre\n",
      "Category:16th-century writers -> /wiki/Category:16th-century_writers\n",
      "Category:Dramatists and playwrights by century -> /wiki/Category:Dramatists_and_playwrights_by_century\n",
      "Category:17th-century dramatists and playwrights -> /wiki/Category:17th-century_dramatists_and_playwrights\n",
      "Category:17th-century English writers -> /wiki/Category:17th-century_English_writers\n",
      "Category:English dramatists and playwrights by century -> /wiki/Category:English_dramatists_and_playwrights_by_century\n",
      "Category:English poets by century -> /wiki/Category:English_poets_by_century\n",
      "Category:16th-century English writers -> /wiki/Category:16th-century_English_writers\n",
      "Category:16th-century poets -> /wiki/Category:16th-century_poets\n",
      "Category:Burials in England by county -> /wiki/Category:Burials_in_England_by_county\n",
      "Category:Warwickshire -> /wiki/Category:Warwickshire\n",
      "Category:Burials in West Midlands (region) -> /wiki/Category:Burials_in_West_Midlands_(region)\n",
      "Category:People by county in England -> /wiki/Category:People_by_county_in_England\n",
      "Category:People from the West Midlands (region) -> /wiki/Category:People_from_the_West_Midlands_(region)\n",
      "Category:Warwickshire -> /wiki/Category:Warwickshire\n",
      "Category:English poets by century -> /wiki/Category:English_poets_by_century\n",
      "Category:17th-century English writers -> /wiki/Category:17th-century_English_writers\n",
      "Category:17th-century poets -> /wiki/Category:17th-century_poets\n",
      "Category:17th-century men -> /wiki/Category:17th-century_men\n",
      "Category:17th-century writers -> /wiki/Category:17th-century_writers\n",
      "Category:Male writers -> /wiki/Category:Male_writers\n",
      "Category:16th-century dramatists and playwrights -> /wiki/Category:16th-century_dramatists_and_playwrights\n",
      "Category:17th-century dramatists and playwrights -> /wiki/Category:17th-century_dramatists_and_playwrights\n",
      "Category:English dramatists and playwrights -> /wiki/Category:English_dramatists_and_playwrights\n",
      "Category:Renaissance writers -> /wiki/Category:Renaissance_writers\n",
      "Category:16th-century English dramatists and playwrights -> /wiki/Category:16th-century_English_dramatists_and_playwrights\n",
      "Category:17th-century English dramatists and playwrights -> /wiki/Category:17th-century_English_dramatists_and_playwrights\n",
      "Category:British male writers -> /wiki/Category:British_male_writers\n",
      "Category:English men by occupation -> /wiki/Category:English_men_by_occupation\n",
      "Category:English writers -> /wiki/Category:English_writers\n",
      "Category:People educated by school in Warwickshire -> /wiki/Category:People_educated_by_school_in_Warwickshire\n",
      "Category:People from Warwickshire -> /wiki/Category:People_from_Warwickshire\n",
      "Category:People by city or town in England -> /wiki/Category:People_by_city_or_town_in_England\n",
      "Category:Stratford-upon-Avon -> /wiki/Category:Stratford-upon-Avon\n",
      "Category:People from Stratford-on-Avon District -> /wiki/Category:People_from_Stratford-on-Avon_District\n",
      "Category:Elizabethan era -> /wiki/Category:Elizabethan_era\n",
      "Category:16th-century English people -> /wiki/Category:16th-century_English_people\n",
      "Category:People of the Tudor period -> /wiki/Category:People_of_the_Tudor_period\n",
      "Category:Stuart England -> /wiki/Category:Stuart_England\n",
      "Category:British people by period -> /wiki/Category:British_people_by_period\n",
      "Category:People of the Kingdom of England -> /wiki/Category:People_of_the_Kingdom_of_England\n",
      "Category:17th-century English people -> /wiki/Category:17th-century_English_people\n",
      "Category:People associated with Shakespeare -> /wiki/Category:People_associated_with_Shakespeare\n",
      "Category:English families -> /wiki/Category:English_families\n",
      "Category:Poets -> /wiki/Category:Poets\n",
      "Category:Sonnet studies -> /wiki/Category:Sonnet_studies\n",
      "Category:English early modern theatre companies -> /wiki/Category:English_early_modern_theatre_companies\n",
      "Category:17th-century English male actors -> /wiki/Category:17th-century_English_male_actors\n",
      "Category:1603 establishments in England -> /wiki/Category:1603_establishments_in_England\n",
      "Category:1642 disestablishments -> /wiki/Category:1642_disestablishments\n",
      "Category:William Shakespeare -> /wiki/Category:William_Shakespeare\n",
      "Category:17th-century disestablishments in England -> /wiki/Category:17th-century_disestablishments_in_England\n",
      "Category:17th-century male actors -> /wiki/Category:17th-century_male_actors\n",
      "Category:17th-century English actors -> /wiki/Category:17th-century_English_actors\n",
      "Category:English male actors by century -> /wiki/Category:English_male_actors_by_century\n",
      "Category:English male stage actors -> /wiki/Category:English_male_stage_actors\n",
      "Category:English dramatists and playwrights -> /wiki/Category:English_dramatists_and_playwrights\n",
      "Category:English male writers -> /wiki/Category:English_male_writers\n",
      "Category:British male dramatists and playwrights -> /wiki/Category:British_male_dramatists_and_playwrights\n",
      "Category:English poets -> /wiki/Category:English_poets\n",
      "Category:English male writers -> /wiki/Category:English_male_writers\n",
      "Category:British male poets -> /wiki/Category:British_male_poets\n",
      "[[], ['/wiki/Category:1564', '/wiki/Category:1560s_births'], ['/wiki/Category:1616', '/wiki/Category:1610s_deaths'], ['/wiki/Category:16th-century_English_actors', '/wiki/Category:16th-century_male_actors', '/wiki/Category:English_male_actors_by_century', '/wiki/Category:English_male_stage_actors'], ['/wiki/Category:British_male_stage_actors', '/wiki/Category:English_male_actors_by_medium', '/wiki/Category:English_stage_actors'], ['/wiki/Category:16th-century_theatre', '/wiki/Category:16th-century_writers', '/wiki/Category:Dramatists_and_playwrights_by_century'], ['/wiki/Category:17th-century_dramatists_and_playwrights', '/wiki/Category:17th-century_English_writers', '/wiki/Category:English_dramatists_and_playwrights_by_century'], ['/wiki/Category:English_poets_by_century', '/wiki/Category:16th-century_English_writers', '/wiki/Category:16th-century_poets'], ['/wiki/Category:Burials_in_England_by_county', '/wiki/Category:Warwickshire', '/wiki/Category:Burials_in_West_Midlands_(region)'], ['/wiki/Category:People_by_county_in_England', '/wiki/Category:People_from_the_West_Midlands_(region)', '/wiki/Category:Warwickshire'], ['/wiki/Category:English_poets_by_century', '/wiki/Category:17th-century_English_writers', '/wiki/Category:17th-century_poets'], ['/wiki/Category:17th-century_men', '/wiki/Category:17th-century_writers', '/wiki/Category:Male_writers'], ['/wiki/Category:16th-century_dramatists_and_playwrights', '/wiki/Category:17th-century_dramatists_and_playwrights', '/wiki/Category:English_dramatists_and_playwrights', '/wiki/Category:Renaissance_writers', '/wiki/Category:16th-century_English_dramatists_and_playwrights', '/wiki/Category:17th-century_English_dramatists_and_playwrights'], ['/wiki/Category:British_male_writers', '/wiki/Category:English_men_by_occupation', '/wiki/Category:English_writers'], ['/wiki/Category:People_educated_by_school_in_Warwickshire'], ['/wiki/Category:People_from_Warwickshire', '/wiki/Category:People_by_city_or_town_in_England', '/wiki/Category:Stratford-upon-Avon', '/wiki/Category:People_from_Stratford-on-Avon_District'], ['/wiki/Category:Elizabethan_era', '/wiki/Category:16th-century_English_people', '/wiki/Category:People_of_the_Tudor_period'], ['/wiki/Category:Stuart_England', '/wiki/Category:British_people_by_period', '/wiki/Category:People_of_the_Kingdom_of_England', '/wiki/Category:17th-century_English_people'], ['/wiki/Category:People_associated_with_Shakespeare', '/wiki/Category:English_families'], ['/wiki/Category:Poets', '/wiki/Category:Sonnet_studies'], ['/wiki/Category:English_early_modern_theatre_companies', '/wiki/Category:17th-century_English_male_actors', '/wiki/Category:1603_establishments_in_England', '/wiki/Category:1642_disestablishments', '/wiki/Category:William_Shakespeare', '/wiki/Category:17th-century_disestablishments_in_England'], ['/wiki/Category:17th-century_male_actors', '/wiki/Category:17th-century_English_actors', '/wiki/Category:English_male_actors_by_century', '/wiki/Category:English_male_stage_actors'], ['/wiki/Category:English_dramatists_and_playwrights', '/wiki/Category:English_male_writers', '/wiki/Category:British_male_dramatists_and_playwrights'], ['/wiki/Category:English_poets', '/wiki/Category:English_male_writers', '/wiki/Category:British_male_poets']]\n",
      "[]\n",
      "[]\n"
     ]
    }
   ],
   "source": [
    "def get(base_links):\n",
    "    soupes = map(lambda link: get_soup(\"https://en.wikipedia.org\" + link), base_links)\n",
    "    return map(get_links, soupes)\n",
    "\n",
    "\n",
    "base_links = get_links(soup)\n",
    "\n",
    "new_links = get(base_links)\n",
    "new_links2 = get(new_links)\n",
    "new_links3 = get(new_links2)\n",
    "print(list(new_links))\n",
    "print(list(new_links2))\n",
    "print(list(new_links3))"
   ]
  },
  {
   "cell_type": "code",
   "execution_count": null,
   "metadata": {},
   "outputs": [],
   "source": []
  }
 ],
 "metadata": {
  "kernelspec": {
   "display_name": "Python 3",
   "language": "python",
   "name": "python3"
  },
  "language_info": {
   "codemirror_mode": {
    "name": "ipython",
    "version": 3
   },
   "file_extension": ".py",
   "mimetype": "text/x-python",
   "name": "python",
   "nbconvert_exporter": "python",
   "pygments_lexer": "ipython3",
   "version": "3.6.0"
  }
 },
 "nbformat": 4,
 "nbformat_minor": 2
}
