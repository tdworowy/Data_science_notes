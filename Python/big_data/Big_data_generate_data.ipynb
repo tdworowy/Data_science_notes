{
 "cells": [
  {
   "cell_type": "code",
   "execution_count": 6,
   "metadata": {},
   "outputs": [
    {
     "name": "stdout",
     "output_type": "stream",
     "text": [
      "number of data entries: 11314\n",
      "average number of word per entry: 206.159802\n"
     ]
    }
   ],
   "source": [
    "import numpy as np\n",
    "from sklearn.datasets import fetch_20newsgroups\n",
    "\n",
    "news_groups_dataset = fetch_20newsgroups(\n",
    "    shuffle=True, remove=(\"headers\", \"footers\", \"quotes\"), random_state=6\n",
    ")\n",
    "print(\"number of data entries: %s\" % np.shape(news_groups_dataset.data))\n",
    "print(\n",
    "    \"average number of word per entry: %f\"\n",
    "    % np.mean([len(text.split(\" \")) for text in news_groups_dataset.data])\n",
    ")"
   ]
  },
  {
   "cell_type": "code",
   "execution_count": 7,
   "metadata": {},
   "outputs": [],
   "source": [
    "from sklearn.datasets import make_classification\n",
    "\n",
    "X, y = make_classification(\n",
    "    n_samples=10**5, n_features=5, n_informative=3, random_state=101\n",
    ")\n",
    "D = np.c_[y, X]\n",
    "np.savetxt(\"large_dataset_10_5.csv\", D, delimiter=\",\")\n",
    "del (D, X, y)\n",
    "X, y = make_classification(\n",
    "    n_samples=10**6, n_features=5, n_informative=3, random_state=101\n",
    ")\n",
    "D = np.c_[y, X]\n",
    "np.savetxt(\"large_dataset_10_6.csv\", D, delimiter=\",\")\n",
    "del (D, X, y)\n",
    "X, y = make_classification(\n",
    "    n_samples=10**7, n_features=5, n_informative=3, random_state=101\n",
    ")\n",
    "D = np.c_[y, X]\n",
    "np.savetxt(\"large_dataset_10_7.csv\", D, delimiter=\",\")\n",
    "del (D, X, y)"
   ]
  },
  {
   "cell_type": "code",
   "execution_count": null,
   "metadata": {},
   "outputs": [],
   "source": []
  }
 ],
 "metadata": {
  "kernelspec": {
   "display_name": "Python 3",
   "language": "python",
   "name": "python3"
  },
  "language_info": {
   "codemirror_mode": {
    "name": "ipython",
    "version": 3
   },
   "file_extension": ".py",
   "mimetype": "text/x-python",
   "name": "python",
   "nbconvert_exporter": "python",
   "pygments_lexer": "ipython3",
   "version": "3.7.2"
  }
 },
 "nbformat": 4,
 "nbformat_minor": 2
}
