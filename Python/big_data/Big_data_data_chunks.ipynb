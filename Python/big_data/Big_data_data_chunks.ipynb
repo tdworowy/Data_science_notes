{
 "cells": [
  {
   "cell_type": "code",
   "execution_count": 6,
   "metadata": {},
   "outputs": [
    {
     "name": "stdout",
     "output_type": "stream",
     "text": [
      "Mean accuracy in progressive validation 0.707814\n"
     ]
    }
   ],
   "source": [
    "from sklearn.linear_model import SGDClassifier\n",
    "from sklearn.preprocessing import MinMaxScaler\n",
    "import pandas as pd\n",
    "import numpy as np\n",
    "\n",
    "streaming = pd.read_csv(\"large_dataset_10_7.csv\", header=None, chunksize=10000)\n",
    "learner = SGDClassifier(loss=\"log\")\n",
    "minmax_scaller = MinMaxScaler(feature_range=(0, 1))\n",
    "cumulative_accuracy = list()\n",
    "for n, chunk in enumerate(streaming):\n",
    "    if n == 0:\n",
    "        minmax_scaller.fit(chunk.iloc[:, 1:].values)\n",
    "    X = minmax_scaller.transform(chunk.iloc[:, 1:].values)\n",
    "    X[X > 1] = 1\n",
    "    X[X < 0] = 0\n",
    "    y = chunk.iloc[:, 0]\n",
    "    if n > 8:\n",
    "        cumulative_accuracy.append(learner.score(X, y))\n",
    "    learner.partial_fit(X, y, classes=np.unique(y))\n",
    "print(\"Mean accuracy in progressive validation %f\" % np.mean(cumulative_accuracy))"
   ]
  },
  {
   "cell_type": "code",
   "execution_count": null,
   "metadata": {},
   "outputs": [],
   "source": []
  }
 ],
 "metadata": {
  "kernelspec": {
   "display_name": "Python 3",
   "language": "python",
   "name": "python3"
  },
  "language_info": {
   "codemirror_mode": {
    "name": "ipython",
    "version": 3
   },
   "file_extension": ".py",
   "mimetype": "text/x-python",
   "name": "python",
   "nbconvert_exporter": "python",
   "pygments_lexer": "ipython3",
   "version": "3.7.2"
  }
 },
 "nbformat": 4,
 "nbformat_minor": 2
}
