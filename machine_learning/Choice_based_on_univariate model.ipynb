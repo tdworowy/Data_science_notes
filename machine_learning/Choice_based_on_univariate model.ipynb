{
 "cells": [
  {
   "cell_type": "code",
   "execution_count": 2,
   "metadata": {},
   "outputs": [],
   "source": [
    "#https://en.wikipedia.org/wiki/Univariate\n",
    "import numpy as np\n",
    "from sklearn.datasets import make_classification\n",
    "X, y = make_classification(n_samples=800, n_features=100, n_informative=25, n_redundant=0, random_state=101)"
   ]
  },
  {
   "cell_type": "code",
   "execution_count": 12,
   "metadata": {},
   "outputs": [
    {
     "name": "stdout",
     "output_type": "stream",
     "text": [
      "[False  True False False False False  True  True False False False False\n",
      "  True False False False False False False False False False False False\n",
      " False False False False False False  True False False False  True  True\n",
      " False False  True False False False False False False  True False False\n",
      " False False False False False False  True False  True False False  True\n",
      " False  True False False False False  True False False False False False\n",
      "  True False False False  True False False False  True  True False False\n",
      "  True False False False False  True False False False False False False\n",
      " False False False  True]\n",
      "21\n"
     ]
    }
   ],
   "source": [
    "from sklearn.feature_selection import SelectPercentile, chi2, f_classif\n",
    "from sklearn.preprocessing import Binarizer, scale\n",
    "Xbin= Binarizer().fit_transform(scale(X))\n",
    "Selector_chi2 = SelectPercentile(chi2, percentile=25).fit(Xbin, y)\n",
    "Selector_f_classif = SelectPercentile(f_classif, percentile=25).fit(X, y)\n",
    "chi_scores = Selector_chi2.get_support()\n",
    "f_classif_scores = Selector_f_classif.get_support()\n",
    "selected = chi_scores & f_classif_scores\n",
    "print(selected)\n",
    "informative = sum([x for x in selected if x == True])\n",
    "print(informative)"
   ]
  },
  {
   "cell_type": "code",
   "execution_count": null,
   "metadata": {},
   "outputs": [],
   "source": []
  }
 ],
 "metadata": {
  "kernelspec": {
   "display_name": "Python 3",
   "language": "python",
   "name": "python3"
  },
  "language_info": {
   "codemirror_mode": {
    "name": "ipython",
    "version": 3
   },
   "file_extension": ".py",
   "mimetype": "text/x-python",
   "name": "python",
   "nbconvert_exporter": "python",
   "pygments_lexer": "ipython3",
   "version": "3.7.2"
  }
 },
 "nbformat": 4,
 "nbformat_minor": 2
}
