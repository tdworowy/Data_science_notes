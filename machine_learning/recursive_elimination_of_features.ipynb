{
 "cells": [
  {
   "cell_type": "code",
   "execution_count": 1,
   "metadata": {},
   "outputs": [
    {
     "name": "stderr",
     "output_type": "stream",
     "text": [
      "D:\\Python\\Lib\\importlib\\_bootstrap.py:219: RuntimeWarning: numpy.ufunc size changed, may indicate binary incompatibility. Expected 216, got 192\n",
      "  return f(*args, **kwds)\n"
     ]
    }
   ],
   "source": [
    "from sklearn.model_selection import train_test_split\n",
    "import numpy as np\n",
    "from sklearn.datasets import make_classification\n",
    "X, y = make_classification(n_samples = 100, n_features=100, \n",
    "                          n_informative=5, n_redundant=2, random_state=101)\n",
    "X_train, X_test, y_train, y_test = train_test_split(X, y, test_size=0.30, random_state=101)\n"
   ]
  },
  {
   "cell_type": "code",
   "execution_count": 5,
   "metadata": {},
   "outputs": [
    {
     "name": "stdout",
     "output_type": "stream",
     "text": [
      "Accuracy of trening samples: 1.000000\n",
      "Accuracy of test samples: 0.766667\n"
     ]
    }
   ],
   "source": [
    "from sklearn.linear_model import LogisticRegression\n",
    "classifier = LogisticRegression(random_state=101, solver=\"lbfgs\")\n",
    "classifier.fit(X_train, y_train)\n",
    "print(\"Accuracy of trening samples: %3f\" % classifier.score(X_train, y_train))\n",
    "print(\"Accuracy of test samples: %3f\" % classifier.score(X_test, y_test))"
   ]
  },
  {
   "cell_type": "code",
   "execution_count": 6,
   "metadata": {},
   "outputs": [
    {
     "name": "stdout",
     "output_type": "stream",
     "text": [
      "Optimal features number: 31\n"
     ]
    }
   ],
   "source": [
    "from sklearn.feature_selection import RFECV #Recursive feature elimination with cross-validation\n",
    "selector = RFECV(estimator=classifier, step=1, cv=10, scoring='accuracy')\n",
    "selector.fit(X_train, y_train)\n",
    "print(\"Optimal features number: %d\" % selector.n_features_)"
   ]
  },
  {
   "cell_type": "code",
   "execution_count": 9,
   "metadata": {},
   "outputs": [
    {
     "name": "stdout",
     "output_type": "stream",
     "text": [
      "Accuracy of trening samples: 1.000000\n",
      "Accuracy of test samples: 0.666667\n"
     ]
    }
   ],
   "source": [
    "X_train_s = selector.transform(X_train)\n",
    "X_test_s = selector.transform(X_test)\n",
    "classifier.fit(X_train_s, y_train)\n",
    "print(\"Accuracy of trening samples: %3f\" % classifier.score(X_train_s, y_train))\n",
    "print(\"Accuracy of test samples: %3f\" % classifier.score(X_test_s, y_test))"
   ]
  },
  {
   "cell_type": "code",
   "execution_count": 11,
   "metadata": {},
   "outputs": [
    {
     "name": "stdout",
     "output_type": "stream",
     "text": [
      "Optimal features number: 29\n"
     ]
    }
   ],
   "source": [
    "selector.fit(X_train_s, y_train)\n",
    "print(\"Optimal features number: %d\" % selector.n_features_)"
   ]
  },
  {
   "cell_type": "code",
   "execution_count": 13,
   "metadata": {},
   "outputs": [
    {
     "name": "stdout",
     "output_type": "stream",
     "text": [
      "Accuracy of trening samples: 1.000000\n",
      "Accuracy of test samples: 0.666667\n"
     ]
    }
   ],
   "source": [
    "X_train_s2 = selector.transform(X_train_s)\n",
    "X_test_s2 = selector.transform(X_test_s)\n",
    "classifier.fit(X_train_s2, y_train)\n",
    "print(\"Accuracy of trening samples: %3f\" % classifier.score(X_train_s2, y_train))\n",
    "print(\"Accuracy of test samples: %3f\" % classifier.score(X_test_s2, y_test))"
   ]
  }
 ],
 "metadata": {
  "kernelspec": {
   "display_name": "Python 3",
   "language": "python",
   "name": "python3"
  },
  "language_info": {
   "codemirror_mode": {
    "name": "ipython",
    "version": 3
   },
   "file_extension": ".py",
   "mimetype": "text/x-python",
   "name": "python",
   "nbconvert_exporter": "python",
   "pygments_lexer": "ipython3",
   "version": "3.7.2"
  }
 },
 "nbformat": 4,
 "nbformat_minor": 2
}
